{
 "cells": [
  {
   "cell_type": "markdown",
   "metadata": {},
   "source": [
    "### Helper Functions"
   ]
  },
  {
   "cell_type": "code",
   "execution_count": 76,
   "metadata": {},
   "outputs": [],
   "source": [
    "import numpy as np\n",
    "import re\n",
    "# %matplotlib inline\n",
    "import matplotlib.pyplot as plt\n",
    "import pandas as pd\n",
    "import ipywidgets as widgets\n",
    "from IPython.display import display\n",
    "from itertools import cycle\n",
    "import warnings"
   ]
  },
  {
   "cell_type": "markdown",
   "metadata": {},
   "source": [
    "#### BLG & RSI"
   ]
  },
  {
   "cell_type": "code",
   "execution_count": 77,
   "metadata": {},
   "outputs": [],
   "source": [
    "def blg(mid_prices, window_size = 20):\n",
    "    cum_sum = np.cumsum(mid_prices)\n",
    "    window_sum = cum_sum[window_size:] - cum_sum[:-window_size]\n",
    "    window_avg = window_sum / window_size\n",
    "    cum_sum_sq = np.cumsum(np.square(mid_prices))\n",
    "    window_sum_sq = cum_sum_sq[window_size:] - cum_sum_sq[:-window_size]\n",
    "    window_avg_sq = window_sum_sq / window_size\n",
    "\n",
    "    window_variance = window_avg_sq - np.square(window_avg)\n",
    "    window_std = np.sqrt(window_variance)\n",
    "    return np.concatenate((np.full(window_size,np.nan),window_avg)), np.concatenate((np.full(window_size,np.nan),window_std))"
   ]
  },
  {
   "cell_type": "code",
   "execution_count": 78,
   "metadata": {},
   "outputs": [],
   "source": [
    "def rsi_calc(price_history:pd.DataFrame, n:int=20)->pd.DataFrame:\n",
    "    \"\"\"\n",
    "    Input: \n",
    "    price_history -- a pandas DataFrame of mid prices\n",
    "\n",
    "    Return:\n",
    "    rsi -- a pandas DataFrame of rsi indices, the first n elements will be NAN \n",
    "    \"\"\"\n",
    "    change = price_history.diff()\n",
    "    # Create two copies of the Closing price Series\n",
    "    change_up = change.copy()\n",
    "    change_down = change.copy()\n",
    "\n",
    "    # Seperate the upward changes, and download changes\n",
    "    change_up[change_up<0] = 0\n",
    "    change_down[change_down>0] = 0\n",
    "\n",
    "    # Verify that we did not make any mistakes\n",
    "    change.equals(change_up+change_down)\n",
    "\n",
    "    # Calculate the rolling average of average up and average down\n",
    "    avg_up = change_up.rolling(n).mean()\n",
    "    avg_down = change_down.rolling(n).mean().abs()\n",
    "    rsi = 100 - 100/(1+ (avg_up/avg_down))\n",
    "    return rsi"
   ]
  },
  {
   "cell_type": "markdown",
   "metadata": {},
   "source": [
    "#### Process"
   ]
  },
  {
   "cell_type": "code",
   "execution_count": 79,
   "metadata": {},
   "outputs": [],
   "source": [
    "import csv\n",
    "import os\n",
    "\n",
    "def process_log_file(filename):\n",
    "    \"\"\"\n",
    "    Reads a log file and extracts the contents after \"activities log:\" into a CSV file with the same name.\n",
    "    \"\"\"\n",
    "    with open(filename, 'r') as f:\n",
    "        lines = f.readlines()\n",
    "        print(f\"finished reading {filename}\")\n",
    "\n",
    "    # Find the index of the line that says \"activities log:\"\n",
    "    activities_index = -1\n",
    "    for i, line in enumerate(lines):\n",
    "        if line.startswith(\"Activities log:\"):\n",
    "            activities_index = i\n",
    "            break\n",
    "\n",
    "    # If \"activities log:\" is not found, return\n",
    "    if activities_index == -1:\n",
    "        return\n",
    "\n",
    "    # Extract the lines after \"activities log:\"\n",
    "    activities_lines = lines[activities_index + 1:]\n",
    "\n",
    "    # Remove any leading or trailing whitespace from each line\n",
    "    activities_lines = [line.strip() for line in activities_lines]\n",
    "\n",
    "    csv_filename = f\"{filename.split('.log')[0]}.csv\"\n",
    "    \n",
    "    if os.path.exists(csv_filename):\n",
    "        print(f\"Error: File '{csv_filename}' already exists.\")\n",
    "        return csv_filename\n",
    "\n",
    "    # Write the contents to a CSV file with the same name as the log file\n",
    "    with open(csv_filename, 'w', newline='') as f:\n",
    "        writer = csv.writer(f)\n",
    "        writer.writerows([line.split(',') for line in activities_lines])\n",
    "        print(f\"{csv_filename} created and written to.\")\n",
    "        return csv_filename"
   ]
  },
  {
   "cell_type": "code",
   "execution_count": 80,
   "metadata": {},
   "outputs": [],
   "source": [
    "def get_data(log_file_path, products):\n",
    "    # from csv in the log\n",
    "    csv_path = process_log_file(log_file_path)\n",
    "    with open(log_file_path, \"r\") as f:\n",
    "        log_file = f.read()\n",
    "\n",
    "    product_dfs = []\n",
    "    position_list = []\n",
    "    mid_prices_list = []\n",
    "    best_bid_prices_list = []\n",
    "    best_ask_prices_list = []\n",
    "    for product in products:\n",
    "        df = pd.read_csv(csv_path, delimiter=\";\")\n",
    "        product_df = df.loc[df[\"product\"]==product]\n",
    "        product_dfs.append(product_df)\n",
    "        mid_prices = np.array(product_df[\"mid_price\"])\n",
    "        best_bid_prices = np.array(product_df[\"bid_price_1\"])\n",
    "        best_ask_prices = np.array(product_df[\"ask_price_1\"])\n",
    "        mid_prices_list.append(mid_prices)\n",
    "        best_bid_prices_list.append(best_bid_prices)\n",
    "        best_ask_prices_list.append(best_ask_prices)\n",
    "\n",
    "        # directly from log\n",
    "        log_profits = re.findall(r\"if it is last round, profit = (-?\\d+(?:\\.\\d+)?)\", log_file)\n",
    "        positions = re.findall(rf\"{product}'s position = (-?\\d+)\", log_file)\n",
    "#         positions = [0] * (len(mid_prices)-len(positions)) + positions\n",
    "        positions = [float(num) for num in positions]\n",
    "        position_list.append(positions)\n",
    "        # buy_profit_margin = re.findall(r\"buy profit margin is (-?\\d+)\", log_file)\n",
    "        # buy_profit_margin = [float(x) for x in buy_profit_margin]\n",
    "        # sell_profit_margin = re.findall(r\"sell profit margin is (-?\\d+)\", log_file)\n",
    "        # sell_profit_margin = [float(x) for x in sell_profit_margin]\n",
    "\n",
    "    return product_dfs, mid_prices_list, position_list, best_bid_prices_list, best_ask_prices_list"
   ]
  },
  {
   "cell_type": "markdown",
   "metadata": {},
   "source": [
    "#### Plot"
   ]
  },
  {
   "cell_type": "code",
   "execution_count": 81,
   "metadata": {},
   "outputs": [],
   "source": [
    "def plot(mid_prices_list, window_size, n, bound, starting, end, log_file_path, \n",
    "         product_dfs, position_list, position_limits,\n",
    "         best_bid_list, best_ask_list):\n",
    "    start = starting\n",
    "    if (start >= end):\n",
    "        return\n",
    "    fig, axes = plt.subplots(3,1,figsize=(20, 12),sharex=True)\n",
    "    fig.suptitle(f\"{log_file_path.split('/')[-1]}\")\n",
    "    fig.set_tight_layout(True)\n",
    "    fig.set_facecolor('white')\n",
    "    \n",
    "    profits=[]\n",
    "    for product_df,positions,mid_prices,position_limit\\\n",
    "          in zip(product_dfs,position_list,mid_prices_list,position_limits):\n",
    "        x = np.array(range(start,end))\n",
    "        y = mid_prices[start:end]\n",
    "        product = product_df[\"product\"].iloc[0]\n",
    "\n",
    "        rsi = rsi_calc(pd.Series(mid_prices))\n",
    "\n",
    "        # avg_avg, _ = blg(avg, window_size)\n",
    "        # avg_avg = np.concatenate((avg[:start], avg_avg))\n",
    "        # dy = np.gradient(avg_avg)\n",
    "\n",
    "        # Find the indices where the sign of the derivative changes\n",
    "        # indices = np.where(np.diff(np.sign(dy)))[0]\n",
    "\n",
    "        # blg\n",
    "        avg, std = blg(mid_prices[start:end], window_size)\n",
    "        upper = avg + n * std + bound\n",
    "        lower = avg - n * std - bound\n",
    "\n",
    "        axes[0].plot(x, y, label=product, marker='o', markersize=1)\n",
    "        axes[0].set_ylabel(\"Mid price\")\n",
    "        if n > 0 and window_size > 0:\n",
    "            axes[0].plot(x, avg)\n",
    "            # axes[0].plot(x, avg_avg[:length], label=\"moving average's average\")\n",
    "            axes[0].fill_between(x, upper, lower, alpha=0.1)\n",
    "            # axes[0].fill_between(x, (avg_avg + n * std)[:length], (avg_avg - n * std)[:length], alpha=0.1)\n",
    "            # axes[0].scatter(x[indices],avg[indices], marker='o',color='blue', s=8000/length,zorder=2)\n",
    "            axes[0].scatter(x[y>upper],y[y>upper], marker='o',color='red', s=8000/end,zorder=2)\n",
    "            axes[0].scatter(x[y<lower],y[y<lower], marker='o',color='red', s=8000/end,zorder=2)\n",
    "\n",
    "\n",
    "        profits.append(product_df[\"profit_and_loss\"][start:end])\n",
    "        axes[1].plot(x, product_df[\"profit_and_loss\"][start:end], label=product, alpha=0.6)\n",
    "        axes[1].set_ylabel(\"Profit\")\n",
    "\n",
    "        axes[2].plot(x, positions[start:end], label=product)\n",
    "        axes[2].set_ylabel(\"Position\")\n",
    "        axes[2].set_ybound(-position_limit,position_limit)\n",
    "        axes[2].legend(loc='upper left')\n",
    "\n",
    "    axes[1].plot(np.sum(profits,axis=0),label=\"profit sum\", linewidth=4)\n",
    "    \n",
    "    axes[0].legend(loc='upper left')\n",
    "    axes[1].legend(loc='upper left')\n",
    "\n",
    "\n",
    "    # axes[3].plot(x, rsi[window_size:length], label=\"rsi\")\n",
    "    # if buy_profit_margin != [] and sell_profit_margin != []:\n",
    "    #     axes[3].plot(x,buy_profit_margin[window_size:length],label=\"buy profit margin\")\n",
    "    #     axes[3].plot(x,sell_profit_margin[window_size:length],label=\"sell profit margin\")\n",
    "\n",
    "    for ax in axes:\n",
    "        ax.grid(True, linestyle='--', linewidth=0.5, color='gray', alpha=0.5)\n",
    "        ax.set_xticks(np.arange(starting,end, max(1,(end-start)//40)))\n",
    "\n",
    "    plt.subplots_adjust(hspace=0)\n",
    "    plt.show()"
   ]
  },
  {
   "cell_type": "code",
   "execution_count": 82,
   "metadata": {},
   "outputs": [],
   "source": [
    "def plot_ruige(mid_prices_list, window_size, n, bound, starting, end, log_file_path, \n",
    "         product_dfs, position_list, position_limits,\n",
    "         best_bid_list, best_ask_list):\n",
    "    \"\"\"\n",
    "    just for round 4's 4 new products\n",
    "    \"\"\"\n",
    "    start = starting\n",
    "    if (start >= end):\n",
    "        return\n",
    "    fig, axes = plt.subplots(4,1,figsize=(20, 12),sharex=True)\n",
    "    fig.suptitle(f\"{log_file_path.split('/')[-1]}\")\n",
    "    fig.set_tight_layout(True)\n",
    "    fig.set_facecolor('white')\n",
    "    \n",
    "    x = np.array(range(start,end))\n",
    "    \n",
    "    products = [product_df[\"product\"].iloc[0] for product_df in product_dfs]\n",
    "    profits=[]\n",
    "    for product_df,positions,mid_prices,position_limit\\\n",
    "          in zip(product_dfs,position_list,mid_prices_list,position_limits):\n",
    "        y = mid_prices[start:end]\n",
    "        product = product_df[\"product\"].iloc[0]\n",
    "        \n",
    "        # blg\n",
    "        avg, std = blg(mid_prices[start:end], window_size)\n",
    "        upper = avg + n * std + bound\n",
    "        lower = avg - n * std - bound\n",
    "        \n",
    "        if n > 0 and window_size > 0:\n",
    "            pass\n",
    "#             axes[0].plot(x, avg)\n",
    "#             axes[0].fill_between(x, upper, lower, alpha=0.1)\n",
    "#             axes[0].scatter(x[y>upper],y[y>upper], marker='o',color='red', s=8000/end,zorder=2)\n",
    "#             axes[0].scatter(x[y<lower],y[y<lower], marker='o',color='red', s=8000/end,zorder=2)\n",
    "\n",
    "        # profit\n",
    "        profits.append(product_df[\"profit_and_loss\"][start:end])\n",
    "        axes[1].plot(x, product_df[\"profit_and_loss\"][start:end], label=product, alpha=0.6)\n",
    "        axes[1].set_ylabel(\"Profit\")\n",
    "        \n",
    "        # position\n",
    "        axes[3].plot(x, positions[start:end], label=product)\n",
    "        axes[3].set_ylabel(\"Position\")\n",
    "        axes[3].set_ybound(-position_limit,position_limit)\n",
    "        axes[3].legend(loc='upper left')\n",
    "\n",
    "    # mid prices\n",
    "    axes[0].plot(x, mid_prices_list[-1], label=products[-1], marker='o', markersize=1)\n",
    "    axes[0].plot(x, np.sum(mid_prices_list[0:-1],axis=0), label=(\"-\".join(products[0:-1])), marker='o', markersize=1)\n",
    "    axes[0].set_ylabel(\"Mid price\")\n",
    "        \n",
    "    # profit sum\n",
    "    axes[1].plot(x,np.sum(profits,axis=0)[start:end],label=\"profit sum\", linewidth=4)\n",
    "    \n",
    "    # price diff\n",
    "    price_diff = mid_prices_list[-1] - np.sum(mid_prices_list[0:-1],axis=0)\n",
    "    axes[2].plot(x,price_diff[start:end],label=\"price diff\")\n",
    "    axes[2].set_ylabel(\"Price Difference\")\n",
    "\n",
    "    \n",
    "    axes[0].legend(loc='upper left')\n",
    "    axes[1].legend(loc='upper left')\n",
    "    axes[2].legend(loc='upper left')\n",
    "\n",
    "    for ax in axes:\n",
    "        ax.grid(True, linestyle='--', linewidth=0.5, color='gray', alpha=0.5)\n",
    "        ax.set_xticks(np.arange(starting,end, max(1,(end-start)//40)))\n",
    "\n",
    "    plt.subplots_adjust(hspace=0)\n",
    "    plt.show()"
   ]
  },
  {
   "cell_type": "markdown",
   "metadata": {},
   "source": [
    "#### Plot From CSVs"
   ]
  },
  {
   "cell_type": "code",
   "execution_count": 83,
   "metadata": {},
   "outputs": [],
   "source": [
    "# log_name = \"\"\"\n",
    "# ruige\n",
    "# \"\"\"\n",
    "\n",
    "def gui(products, position_limits, normalization_multipliers,log_name):\n",
    "    def update_plot(window_size,starting,end,n):\n",
    "#         if log_file == ():\n",
    "#             print(\"Upload a log file first.\")\n",
    "#             return\n",
    "        \n",
    "#         log_name = log_file[0].name\n",
    "        log_file_path = f\"logs/{log_name.strip()}.log\"\n",
    "\n",
    "        \n",
    "        product_dfs, mid_prices_list, positions, best_bid_list, best_ask_list = get_data(\n",
    "            log_file_path, products)\n",
    "        \n",
    "        normalized_mid_prices = [mid_prices*mult for mid_prices,mult in zip(mid_prices_list, normalization_multipliers)]\n",
    "        \n",
    "        plot_ruige(\n",
    "            normalized_mid_prices, \n",
    "            window_size=int(window_size), n=n, bound=1, starting=int(starting), end=int(end),\n",
    "            log_file_path=log_file_path, product_dfs=product_dfs, position_list=positions,\n",
    "            position_limits=position_limits, best_bid_list=best_bid_list, best_ask_list=best_ask_list)\n",
    "\n",
    "\n",
    "#     uploader = widgets.FileUpload(accept='.log', multiple=False)\n",
    "\n",
    "    window_slider = widgets.FloatSlider(min=0, max=100, step=1, value=10)\n",
    "    n_slider = widgets.FloatSlider(min=0, max=10, step=0.1, value=1.5)\n",
    "    starting_slider = widgets.FloatSlider(min=0, max=1000, step=1, value=0)\n",
    "    end_slider = widgets.FloatSlider(min=0, max=1000, step=1, value=1000)\n",
    "    widgets.interact(update_plot,\n",
    "                     window_size=window_slider,\n",
    "                     starting=starting_slider,\n",
    "                     end=end_slider,\n",
    "                     n=n_slider,\n",
    "#                      log_file=uploader\n",
    "                     )\n"
   ]
  },
  {
   "attachments": {},
   "cell_type": "markdown",
   "metadata": {},
   "source": [
    "### Round 5 Hanson"
   ]
  },
  {
   "attachments": {},
   "cell_type": "markdown",
   "metadata": {},
   "source": [
    "今天新给的信息是我们知道不同的trading bots的编号 所以可以map出来bots在5个trading periods的behaviours。目前的working theory是有一些bots有additional information会低买高卖，有一些bots 就是在randomly的做trade。为了identify哪些bots有information，需要的工具是plot出某个商品的mid-price line以及trade这个商品的bots的进场时间和出场时间。Ideally就是一张mid-price图，可以换商品和换天数，然后每个bot由不同的颜色代表，进场和出场也不同颜色。现在可以先不管他们每次买入卖出的quantity，完全只看direction。\n",
    "\n",
    "每个trader每个商品的profit curve和inventory curve"
   ]
  },
  {
   "attachments": {},
   "cell_type": "markdown",
   "metadata": {},
   "source": [
    "timestamp;buyer;seller;symbol;currency;price;quantity"
   ]
  },
  {
   "cell_type": "code",
   "execution_count": 119,
   "metadata": {},
   "outputs": [],
   "source": [
    "def update_round5_plot(bots, products, rnd, day, start, end):\n",
    "    if rnd == 1:\n",
    "        day -= 3\n",
    "    elif rnd == 2:\n",
    "        day -= 2\n",
    "    elif rnd == 3:\n",
    "        day -= 1\n",
    "    data_path = f\"island-data-bottle-round-5/trades_round_{rnd}_day_{day}_wn.csv\"\n",
    "    df1 = pd.read_csv(data_path, delimiter=';')\n",
    "    price_data_path = f\"past-prices-data/prices_round_{rnd}_day_{day}.csv\"\n",
    "    df2 = pd.read_csv(price_data_path, delimiter=';')\n",
    "\n",
    "    # init fig\n",
    "    fig, (ax1, ax2, ax3, ax4) = plt.subplots(4, 1, figsize=(20, 12), sharex=True)\n",
    "    fig.suptitle(f\"{data_path.split('/')[-1]}\")\n",
    "    fig.set_tight_layout(True)\n",
    "    fig.set_facecolor('white')\n",
    "    colors = cycle(plt.cm.Dark2(np.linspace(0, 1, 8)))\n",
    "\n",
    "    for product in products:\n",
    "        product_df = df1.loc[df1[\"symbol\"] == product].loc[df1['timestamp']\n",
    "                                                           >= start*100].loc[df1[\"timestamp\"] <= end*100]\n",
    "        # print(product_df)\n",
    "        price_df = df2.loc[df2[\"product\"] == product].loc[df2['timestamp']\n",
    "                                                          >= start*100].loc[df2[\"timestamp\"] <= end*100]\n",
    "        # print(price_df)\n",
    "\n",
    "        # print mid price\n",
    "        x = price_df[\"timestamp\"] / 100\n",
    "        mid_price = price_df[\"mid_price\"]\n",
    "        ax1.plot(x, mid_price, label=product)\n",
    "\n",
    "        for bot in bots:\n",
    "            # trade quantity and position\n",
    "            buy_df = product_df.loc[product_df[\"buyer\"] == bot]\n",
    "            sell_df = product_df.loc[product_df[\"seller\"] == bot]\n",
    "            buy_color = next(colors)\n",
    "            sell_color = next(colors)\n",
    "            # print(buy_df)\n",
    "            # print(sell_df)\n",
    "            for _, row in buy_df.iterrows():\n",
    "                ax2.plot([row[\"timestamp\"]/100, row[\"timestamp\"]/100],\n",
    "                         [0, row[\"quantity\"]], c=buy_color, alpha=0.5)\n",
    "            for _, row in sell_df.iterrows():\n",
    "                ax2.plot([row[\"timestamp\"]/100, row[\"timestamp\"]/100],\n",
    "                         [0, -row[\"quantity\"]], c=sell_color, alpha=0.5)\n",
    "            ax2.scatter(buy_df[\"timestamp\"]/100,\n",
    "                        buy_df[\"quantity\"], label=bot+\"_buy\", c=[buy_color]*len(buy_df))\n",
    "            ax2.scatter(sell_df[\"timestamp\"]/100, -\n",
    "                        sell_df[\"quantity\"], label=bot+\"_sell\", c=[sell_color] * len(sell_df))\n",
    "            # position\n",
    "            bot_df = product_df.loc[(product_df[\"buyer\"] == bot) | (\n",
    "                product_df[\"seller\"] == bot)]\n",
    "            bot_df.loc[bot_df[\"seller\"]==bot,\"quantity\"] *= -1\n",
    "            # print(bot_df)\n",
    "            pos_df = bot_df.groupby('timestamp')['quantity'].sum().reset_index()\n",
    "            positions = np.cumsum(pos_df[\"quantity\"],axis=0)\n",
    "            ax3.plot(pos_df[\"timestamp\"]/100,positions,label=f\"{product}-{bot}\")\n",
    "\n",
    "            # profit of bot for that product\n",
    "            bot_df[\"cash_change\"] = bot_df[\"quantity\"] * bot_df[\"price\"]\n",
    "            cash_df = bot_df.groupby('timestamp')['cash_change'].sum().reset_index()\n",
    "            clear_df = pos_df.merge(price_df[[\"timestamp\",\"mid_price\"]], on=\"timestamp\")\n",
    "            # print(clear_df)\n",
    "            clear = clear_df[\"quantity\"] * clear_df[\"mid_price\"]\n",
    "            ax4.plot(pos_df[\"timestamp\"]/100,np.cumsum(cash_df[\"cash_change\"],axis=0) + clear,label=f\"{product}-{bot}\")\n",
    "\n",
    "    ax1.set_title(\"mid price\")\n",
    "    ax2.set_title(\"trade\")\n",
    "    ax3.set_title(\"position\")\n",
    "    ax4.set_title(\"profit\")\n",
    "    for ax in (ax1, ax2, ax3, ax4):\n",
    "        ax.legend(loc='upper left')\n",
    "        ax.grid(True, linestyle='--', linewidth=0.5, color='gray', alpha=0.5)\n",
    "        ax.set_xticks(np.arange(start, end, max(1, (end-start)//40)))\n",
    "\n",
    "\n",
    "def round_5_gui():\n",
    "    label = widgets.Label('Hold ctrl or shift to select multiple products:')\n",
    "    display(label)\n",
    "    product_select = widgets.SelectMultiple(\n",
    "        options=[\"BANANAS\", \"PEARLS\", \"BERRIES\", \"DIVING_GEAR\",\n",
    "                 \"DOLPHIN_SIGHTINGS\", \"COCONUTS\", \"PINA_COLADAS\", 'BAGUETTE',\n",
    "                 'DIP', 'UKULELE', 'PICNIC_BASKET'], value=[\"BANANAS\"])\n",
    "    bots_select = widgets.SelectMultiple(\n",
    "        options=sorted([\"Peter\", \"Pablo\", \"Mitch\", \"Gary\", \"Penelope\",\n",
    "                        \"Omar\", \"Camilla\", \"Caesar\", \"Giulia\", \"Mabel\",\n",
    "                        \"Charlie\", \"Olivia\", \"Orson\", \"Casey\", \"George\",\n",
    "                        \"Mya\", \"Max\", \"Paris\", \"Gina\", \"Olga\"]), value=[\"Pablo\"])\n",
    "    day_dropdown = widgets.Dropdown(options=[1, 2, 3], value=1)\n",
    "    round_dropdown = widgets.Dropdown(options=[1, 2, 3, 4], value=1)\n",
    "    starting_slider = widgets.IntSlider(min=0, max=10000, step=1, value=0)\n",
    "    end_slider = widgets.IntSlider(min=0, max=10000, step=1, value=10000)\n",
    "    select_box = widgets.HBox([product_select, bots_select])\n",
    "    widget = widgets.interactive(update_round5_plot, bots=bots_select, products=product_select,\n",
    "                                 rnd=round_dropdown, day=day_dropdown, start=starting_slider, end=end_slider)\n",
    "    controls = widgets.HBox(\n",
    "        widget.children[:-1], layout=widgets.Layout(flex_flow='row wrap'))\n",
    "    output = widget.children[-1]\n",
    "    display(widgets.VBox([controls, output]))\n"
   ]
  },
  {
   "cell_type": "markdown",
   "metadata": {},
   "source": [
    "👇 RUN ME TO GET GRAPH 👇"
   ]
  },
  {
   "cell_type": "code",
   "execution_count": 120,
   "metadata": {},
   "outputs": [
    {
     "data": {
      "application/vnd.jupyter.widget-view+json": {
       "model_id": "48c61744c77f49a78c72ff023840a5e0",
       "version_major": 2,
       "version_minor": 0
      },
      "text/plain": [
       "Label(value='Hold ctrl or shift to select multiple products:')"
      ]
     },
     "metadata": {},
     "output_type": "display_data"
    },
    {
     "data": {
      "application/vnd.jupyter.widget-view+json": {
       "model_id": "309268525a254b77977acd53ae96e671",
       "version_major": 2,
       "version_minor": 0
      },
      "text/plain": [
       "VBox(children=(HBox(children=(SelectMultiple(description='bots', index=(16,), options=('Caesar', 'Camilla', 'C…"
      ]
     },
     "metadata": {},
     "output_type": "display_data"
    }
   ],
   "source": [
    "round_5_gui()"
   ]
  },
  {
   "attachments": {},
   "cell_type": "markdown",
   "metadata": {},
   "source": [
    "### PICNIC_BASKET and Others"
   ]
  },
  {
   "cell_type": "markdown",
   "metadata": {},
   "source": [
    "👇 RUN ME TO GET GRAPH 👇"
   ]
  },
  {
   "cell_type": "markdown",
   "metadata": {},
   "source": [
    "1. Graph 1: plot the mid price of the main product (PICNIC_BASKET) and the mid price of the SUM of the components ('BAGUETTE', 'DIP', 'UKULELE', weighted) as a function of time\n",
    "2. Graph 2: plot the difference between the mid price of the main product and the mid price of the SUM of the components (weighted) as a function of time\n",
    "3. Graph 3: plot the profit of the main product and the profit of the SUM of the components (weighted) as a function of time\n",
    "4. Graph 4: plot the position of the main product and that of the normalized (w.r.t. main product) components (a bit difficult to do)"
   ]
  },
  {
   "cell_type": "code",
   "execution_count": 86,
   "metadata": {
    "scrolled": false
   },
   "outputs": [
    {
     "data": {
      "application/vnd.jupyter.widget-view+json": {
       "model_id": "3f266ebb7f484fb7babfebb6e888fa67",
       "version_major": 2,
       "version_minor": 0
      },
      "text/plain": [
       "interactive(children=(FloatSlider(value=10.0, description='window_size', step=1.0), FloatSlider(value=0.0, des…"
      ]
     },
     "metadata": {},
     "output_type": "display_data"
    }
   ],
   "source": [
    "products = [\n",
    "# \"PINA_COLADAS\",\n",
    "# \"COCONUTS\",\n",
    "# \"PEARLS\",\n",
    "# \"BANANAS\",\n",
    "'BAGUETTE',\n",
    "'DIP',\n",
    "'UKULELE',\n",
    "'PICNIC_BASKET'\n",
    "]\n",
    "position_limits = [\n",
    "    # 300,\n",
    "    # 600,\n",
    "    # 20,\n",
    "    # 20\n",
    "    150,\n",
    "    300,\n",
    "    70,\n",
    "    70\n",
    "]\n",
    "\n",
    "normalization_multipliers = [\n",
    "    # 8,\n",
    "    # 15,\n",
    "    # 1,\n",
    "    # 1,\n",
    "    2,\n",
    "    4,\n",
    "    1,\n",
    "    1,\n",
    "]\n",
    "\n",
    "gui(products, position_limits, normalization_multipliers,\n",
    "    log_name = \"round4_mixed_difference_moving_average_mean_reversion\"\n",
    ")"
   ]
  },
  {
   "cell_type": "markdown",
   "metadata": {},
   "source": [
    "### Berries Profit Estimation"
   ]
  },
  {
   "cell_type": "code",
   "execution_count": null,
   "metadata": {},
   "outputs": [],
   "source": [
    "def update_profit_plot(products, day, start, end, window_size, n, plateau_starts, upward_starts, down_starts, down_ends):\n",
    "    if (len(products) == 0):\n",
    "        return\n",
    "    if start >= end:\n",
    "        return\n",
    "    # day = 0 # 0, 1 or 2\n",
    "    csv_path = f\"data/island-data-bottle-round-3/prices_round_3_day_{day}.csv\"\n",
    "    df = pd.read_csv(csv_path, delimiter=';')\n",
    "\n",
    "    fig, axes = plt.subplots(len(products)+1, 1, figsize=(20, 12), sharex=True)\n",
    "    fig.suptitle(f\"{products} day {day}\")\n",
    "    fig.set_tight_layout(True)\n",
    "    fig.set_facecolor('white')\n",
    "\n",
    "    for i, product in enumerate(products):\n",
    "        product_df = df.loc[df[\"product\"] == product]\n",
    "\n",
    "        x = np.array(range(start, end))\n",
    "        y = product_df[\"mid_price\"][start:end]\n",
    "\n",
    "        axes[i].set_ylim(bottom=np.min(y), top=np.max(y))\n",
    "\n",
    "        axes[i].plot(x, y, label=\"mid price\")\n",
    "        # axes[0].plot(x, berries_df[\"bid_price_1\"][start:end],\n",
    "        #              label=\"best bid\", linewidth=.4, alpha=0.5)\n",
    "        # axes[0].plot(x, berries_df[\"ask_price_1\"][start:end],\n",
    "        #              label=\"best ask\", linewidth=.4, alpha=0.5)\n",
    "        axes[i].fill_between(x, y, where=(x >= plateau_starts) & (\n",
    "            x <= upward_starts), alpha=0.15)\n",
    "        axes[i].fill_between(x, y, where=(x >= upward_starts) & (\n",
    "            x <= down_starts), alpha=0.15)\n",
    "        axes[i].fill_between(x, y, where=(x >= down_starts) & (\n",
    "            x <= down_ends), alpha=0.15)\n",
    "\n",
    "        # blg\n",
    "        avg, std = blg(\n",
    "            np.array(product_df[\"mid_price\"][start:end]), window_size)\n",
    "        upper = avg + n * std\n",
    "        lower = avg - n * std\n",
    "        if n > 0 and window_size > 0:\n",
    "            axes[i].plot(x, avg, label=\"moving avg\")\n",
    "            axes[i].fill_between(x, upper, lower, alpha=0.3)\n",
    "            axes[i].scatter(x[y > upper], y[y > upper], marker='o',\n",
    "                            color='red', s=20000/(end-start), zorder=2)\n",
    "            axes[i].scatter(x[y < lower], y[y < lower], marker='o',\n",
    "                            color='red', s=20000/(end-start), zorder=2)\n",
    "\n",
    "        axes[i].legend(loc='upper left')\n",
    "        axes[i].set_title(f\"{product}\")\n",
    "\n",
    "    for ax in axes:\n",
    "        ax.grid(True, linestyle='--', linewidth=0.5, color='gray', alpha=0.5)\n",
    "        ax.set_xticks(np.arange(start, end, max(100, (end-start)//40)))\n",
    "    plt.xticks(rotation=45)\n",
    "\n",
    "\n",
    "def profit_gui():\n",
    "    label = widgets.Label('Hold ctrl or shift to select multiple products:')\n",
    "    display(label)\n",
    "    product_select = widgets.SelectMultiple(options=[\"BERRIES\", \"DIVING_GEAR\", \"DOLPHIN_SIGHTINGS\",\"COCONUTS\",\"PINA_COLADAS\"],\n",
    "                                            value=[\"DIVING_GEAR\",\n",
    "                                                   \"DOLPHIN_SIGHTINGS\"])\n",
    "    day_dropdown = widgets.Dropdown(options=[0, 1, 2], value=0)\n",
    "    starting_slider = widgets.IntSlider(min=0, max=10000, step=1, value=0)\n",
    "    end_slider = widgets.IntSlider(min=0, max=10000, step=1, value=10000)\n",
    "    window_slider = widgets.IntSlider(min=0, max=1000, step=1, value=100)\n",
    "    n_slider = widgets.FloatSlider(min=0, max=10, step=0.1, value=2)\n",
    "    plateau_starts = widgets.IntSlider(min=0, max=10000, step=1, value=2000)\n",
    "    upward_starts = widgets.IntSlider(min=0, max=10000, step=1, value=4000)\n",
    "    down_starts = widgets.IntSlider(min=0, max=10000, step=1, value=5500)\n",
    "    down_ends = widgets.IntSlider(min=0, max=10000, step=1, value=7000)\n",
    "    widgets.interact(update_profit_plot,\n",
    "                     products=product_select,\n",
    "                     day=day_dropdown,\n",
    "                     start=(starting_slider),\n",
    "                     end=(end_slider),\n",
    "                     window_size=window_slider,\n",
    "                     n=n_slider,\n",
    "                     plateau_starts=plateau_starts,\n",
    "                     upward_starts=upward_starts,\n",
    "                     down_starts=down_starts,\n",
    "                     down_ends=down_ends,\n",
    "                     )\n"
   ]
  },
  {
   "cell_type": "markdown",
   "metadata": {},
   "source": [
    "👇 RUN ME TO GET GRAPH 👇"
   ]
  },
  {
   "cell_type": "code",
   "execution_count": null,
   "metadata": {},
   "outputs": [
    {
     "ename": "FileNotFoundError",
     "evalue": "[Errno 2] No such file or directory: 'data/island-data-bottle-round-3/prices_round_3_day_0.csv'",
     "output_type": "error",
     "traceback": [
      "\u001b[0;31m---------------------------------------------------------------------------\u001b[0m",
      "\u001b[0;31mFileNotFoundError\u001b[0m                         Traceback (most recent call last)",
      "File \u001b[0;32m/Library/Frameworks/Python.framework/Versions/3.9/lib/python3.9/site-packages/ipywidgets/widgets/interaction.py:240\u001b[0m, in \u001b[0;36minteractive.update\u001b[0;34m(self, *args)\u001b[0m\n\u001b[1;32m    238\u001b[0m     value \u001b[38;5;241m=\u001b[39m widget\u001b[38;5;241m.\u001b[39mget_interact_value()\n\u001b[1;32m    239\u001b[0m     \u001b[38;5;28mself\u001b[39m\u001b[38;5;241m.\u001b[39mkwargs[widget\u001b[38;5;241m.\u001b[39m_kwarg] \u001b[38;5;241m=\u001b[39m value\n\u001b[0;32m--> 240\u001b[0m \u001b[38;5;28mself\u001b[39m\u001b[38;5;241m.\u001b[39mresult \u001b[38;5;241m=\u001b[39m \u001b[38;5;28;43mself\u001b[39;49m\u001b[38;5;241;43m.\u001b[39;49m\u001b[43mf\u001b[49m\u001b[43m(\u001b[49m\u001b[38;5;241;43m*\u001b[39;49m\u001b[38;5;241;43m*\u001b[39;49m\u001b[38;5;28;43mself\u001b[39;49m\u001b[38;5;241;43m.\u001b[39;49m\u001b[43mkwargs\u001b[49m\u001b[43m)\u001b[49m\n\u001b[1;32m    241\u001b[0m show_inline_matplotlib_plots()\n\u001b[1;32m    242\u001b[0m \u001b[38;5;28;01mif\u001b[39;00m \u001b[38;5;28mself\u001b[39m\u001b[38;5;241m.\u001b[39mauto_display \u001b[38;5;129;01mand\u001b[39;00m \u001b[38;5;28mself\u001b[39m\u001b[38;5;241m.\u001b[39mresult \u001b[38;5;129;01mis\u001b[39;00m \u001b[38;5;129;01mnot\u001b[39;00m \u001b[38;5;28;01mNone\u001b[39;00m:\n",
      "Cell \u001b[0;32mIn[57], line 8\u001b[0m, in \u001b[0;36mupdate_profit_plot\u001b[0;34m(products, day, start, end, window_size, n, plateau_starts, upward_starts, down_starts, down_ends)\u001b[0m\n\u001b[1;32m      6\u001b[0m \u001b[38;5;66;03m# day = 0 # 0, 1 or 2\u001b[39;00m\n\u001b[1;32m      7\u001b[0m csv_path \u001b[38;5;241m=\u001b[39m \u001b[38;5;124mf\u001b[39m\u001b[38;5;124m\"\u001b[39m\u001b[38;5;124mdata/island-data-bottle-round-3/prices_round_3_day_\u001b[39m\u001b[38;5;132;01m{\u001b[39;00mday\u001b[38;5;132;01m}\u001b[39;00m\u001b[38;5;124m.csv\u001b[39m\u001b[38;5;124m\"\u001b[39m\n\u001b[0;32m----> 8\u001b[0m df \u001b[38;5;241m=\u001b[39m \u001b[43mpd\u001b[49m\u001b[38;5;241;43m.\u001b[39;49m\u001b[43mread_csv\u001b[49m\u001b[43m(\u001b[49m\u001b[43mcsv_path\u001b[49m\u001b[43m,\u001b[49m\u001b[43m \u001b[49m\u001b[43mdelimiter\u001b[49m\u001b[38;5;241;43m=\u001b[39;49m\u001b[38;5;124;43m'\u001b[39;49m\u001b[38;5;124;43m;\u001b[39;49m\u001b[38;5;124;43m'\u001b[39;49m\u001b[43m)\u001b[49m\n\u001b[1;32m     10\u001b[0m fig, axes \u001b[38;5;241m=\u001b[39m plt\u001b[38;5;241m.\u001b[39msubplots(\u001b[38;5;28mlen\u001b[39m(products)\u001b[38;5;241m+\u001b[39m\u001b[38;5;241m1\u001b[39m, \u001b[38;5;241m1\u001b[39m, figsize\u001b[38;5;241m=\u001b[39m(\u001b[38;5;241m20\u001b[39m, \u001b[38;5;241m12\u001b[39m), sharex\u001b[38;5;241m=\u001b[39m\u001b[38;5;28;01mTrue\u001b[39;00m)\n\u001b[1;32m     11\u001b[0m fig\u001b[38;5;241m.\u001b[39msuptitle(\u001b[38;5;124mf\u001b[39m\u001b[38;5;124m\"\u001b[39m\u001b[38;5;132;01m{\u001b[39;00mproducts\u001b[38;5;132;01m}\u001b[39;00m\u001b[38;5;124m day \u001b[39m\u001b[38;5;132;01m{\u001b[39;00mday\u001b[38;5;132;01m}\u001b[39;00m\u001b[38;5;124m\"\u001b[39m)\n",
      "File \u001b[0;32m/Library/Frameworks/Python.framework/Versions/3.9/lib/python3.9/site-packages/pandas/util/_decorators.py:211\u001b[0m, in \u001b[0;36mdeprecate_kwarg.<locals>._deprecate_kwarg.<locals>.wrapper\u001b[0;34m(*args, **kwargs)\u001b[0m\n\u001b[1;32m    209\u001b[0m     \u001b[38;5;28;01melse\u001b[39;00m:\n\u001b[1;32m    210\u001b[0m         kwargs[new_arg_name] \u001b[38;5;241m=\u001b[39m new_arg_value\n\u001b[0;32m--> 211\u001b[0m \u001b[38;5;28;01mreturn\u001b[39;00m \u001b[43mfunc\u001b[49m\u001b[43m(\u001b[49m\u001b[38;5;241;43m*\u001b[39;49m\u001b[43margs\u001b[49m\u001b[43m,\u001b[49m\u001b[43m \u001b[49m\u001b[38;5;241;43m*\u001b[39;49m\u001b[38;5;241;43m*\u001b[39;49m\u001b[43mkwargs\u001b[49m\u001b[43m)\u001b[49m\n",
      "File \u001b[0;32m/Library/Frameworks/Python.framework/Versions/3.9/lib/python3.9/site-packages/pandas/util/_decorators.py:331\u001b[0m, in \u001b[0;36mdeprecate_nonkeyword_arguments.<locals>.decorate.<locals>.wrapper\u001b[0;34m(*args, **kwargs)\u001b[0m\n\u001b[1;32m    325\u001b[0m \u001b[38;5;28;01mif\u001b[39;00m \u001b[38;5;28mlen\u001b[39m(args) \u001b[38;5;241m>\u001b[39m num_allow_args:\n\u001b[1;32m    326\u001b[0m     warnings\u001b[38;5;241m.\u001b[39mwarn(\n\u001b[1;32m    327\u001b[0m         msg\u001b[38;5;241m.\u001b[39mformat(arguments\u001b[38;5;241m=\u001b[39m_format_argument_list(allow_args)),\n\u001b[1;32m    328\u001b[0m         \u001b[38;5;167;01mFutureWarning\u001b[39;00m,\n\u001b[1;32m    329\u001b[0m         stacklevel\u001b[38;5;241m=\u001b[39mfind_stack_level(),\n\u001b[1;32m    330\u001b[0m     )\n\u001b[0;32m--> 331\u001b[0m \u001b[38;5;28;01mreturn\u001b[39;00m \u001b[43mfunc\u001b[49m\u001b[43m(\u001b[49m\u001b[38;5;241;43m*\u001b[39;49m\u001b[43margs\u001b[49m\u001b[43m,\u001b[49m\u001b[43m \u001b[49m\u001b[38;5;241;43m*\u001b[39;49m\u001b[38;5;241;43m*\u001b[39;49m\u001b[43mkwargs\u001b[49m\u001b[43m)\u001b[49m\n",
      "File \u001b[0;32m/Library/Frameworks/Python.framework/Versions/3.9/lib/python3.9/site-packages/pandas/io/parsers/readers.py:950\u001b[0m, in \u001b[0;36mread_csv\u001b[0;34m(filepath_or_buffer, sep, delimiter, header, names, index_col, usecols, squeeze, prefix, mangle_dupe_cols, dtype, engine, converters, true_values, false_values, skipinitialspace, skiprows, skipfooter, nrows, na_values, keep_default_na, na_filter, verbose, skip_blank_lines, parse_dates, infer_datetime_format, keep_date_col, date_parser, dayfirst, cache_dates, iterator, chunksize, compression, thousands, decimal, lineterminator, quotechar, quoting, doublequote, escapechar, comment, encoding, encoding_errors, dialect, error_bad_lines, warn_bad_lines, on_bad_lines, delim_whitespace, low_memory, memory_map, float_precision, storage_options)\u001b[0m\n\u001b[1;32m    935\u001b[0m kwds_defaults \u001b[38;5;241m=\u001b[39m _refine_defaults_read(\n\u001b[1;32m    936\u001b[0m     dialect,\n\u001b[1;32m    937\u001b[0m     delimiter,\n\u001b[0;32m   (...)\u001b[0m\n\u001b[1;32m    946\u001b[0m     defaults\u001b[38;5;241m=\u001b[39m{\u001b[38;5;124m\"\u001b[39m\u001b[38;5;124mdelimiter\u001b[39m\u001b[38;5;124m\"\u001b[39m: \u001b[38;5;124m\"\u001b[39m\u001b[38;5;124m,\u001b[39m\u001b[38;5;124m\"\u001b[39m},\n\u001b[1;32m    947\u001b[0m )\n\u001b[1;32m    948\u001b[0m kwds\u001b[38;5;241m.\u001b[39mupdate(kwds_defaults)\n\u001b[0;32m--> 950\u001b[0m \u001b[38;5;28;01mreturn\u001b[39;00m \u001b[43m_read\u001b[49m\u001b[43m(\u001b[49m\u001b[43mfilepath_or_buffer\u001b[49m\u001b[43m,\u001b[49m\u001b[43m \u001b[49m\u001b[43mkwds\u001b[49m\u001b[43m)\u001b[49m\n",
      "File \u001b[0;32m/Library/Frameworks/Python.framework/Versions/3.9/lib/python3.9/site-packages/pandas/io/parsers/readers.py:605\u001b[0m, in \u001b[0;36m_read\u001b[0;34m(filepath_or_buffer, kwds)\u001b[0m\n\u001b[1;32m    602\u001b[0m _validate_names(kwds\u001b[38;5;241m.\u001b[39mget(\u001b[38;5;124m\"\u001b[39m\u001b[38;5;124mnames\u001b[39m\u001b[38;5;124m\"\u001b[39m, \u001b[38;5;28;01mNone\u001b[39;00m))\n\u001b[1;32m    604\u001b[0m \u001b[38;5;66;03m# Create the parser.\u001b[39;00m\n\u001b[0;32m--> 605\u001b[0m parser \u001b[38;5;241m=\u001b[39m \u001b[43mTextFileReader\u001b[49m\u001b[43m(\u001b[49m\u001b[43mfilepath_or_buffer\u001b[49m\u001b[43m,\u001b[49m\u001b[43m \u001b[49m\u001b[38;5;241;43m*\u001b[39;49m\u001b[38;5;241;43m*\u001b[39;49m\u001b[43mkwds\u001b[49m\u001b[43m)\u001b[49m\n\u001b[1;32m    607\u001b[0m \u001b[38;5;28;01mif\u001b[39;00m chunksize \u001b[38;5;129;01mor\u001b[39;00m iterator:\n\u001b[1;32m    608\u001b[0m     \u001b[38;5;28;01mreturn\u001b[39;00m parser\n",
      "File \u001b[0;32m/Library/Frameworks/Python.framework/Versions/3.9/lib/python3.9/site-packages/pandas/io/parsers/readers.py:1442\u001b[0m, in \u001b[0;36mTextFileReader.__init__\u001b[0;34m(self, f, engine, **kwds)\u001b[0m\n\u001b[1;32m   1439\u001b[0m     \u001b[38;5;28mself\u001b[39m\u001b[38;5;241m.\u001b[39moptions[\u001b[38;5;124m\"\u001b[39m\u001b[38;5;124mhas_index_names\u001b[39m\u001b[38;5;124m\"\u001b[39m] \u001b[38;5;241m=\u001b[39m kwds[\u001b[38;5;124m\"\u001b[39m\u001b[38;5;124mhas_index_names\u001b[39m\u001b[38;5;124m\"\u001b[39m]\n\u001b[1;32m   1441\u001b[0m \u001b[38;5;28mself\u001b[39m\u001b[38;5;241m.\u001b[39mhandles: IOHandles \u001b[38;5;241m|\u001b[39m \u001b[38;5;28;01mNone\u001b[39;00m \u001b[38;5;241m=\u001b[39m \u001b[38;5;28;01mNone\u001b[39;00m\n\u001b[0;32m-> 1442\u001b[0m \u001b[38;5;28mself\u001b[39m\u001b[38;5;241m.\u001b[39m_engine \u001b[38;5;241m=\u001b[39m \u001b[38;5;28;43mself\u001b[39;49m\u001b[38;5;241;43m.\u001b[39;49m\u001b[43m_make_engine\u001b[49m\u001b[43m(\u001b[49m\u001b[43mf\u001b[49m\u001b[43m,\u001b[49m\u001b[43m \u001b[49m\u001b[38;5;28;43mself\u001b[39;49m\u001b[38;5;241;43m.\u001b[39;49m\u001b[43mengine\u001b[49m\u001b[43m)\u001b[49m\n",
      "File \u001b[0;32m/Library/Frameworks/Python.framework/Versions/3.9/lib/python3.9/site-packages/pandas/io/parsers/readers.py:1735\u001b[0m, in \u001b[0;36mTextFileReader._make_engine\u001b[0;34m(self, f, engine)\u001b[0m\n\u001b[1;32m   1733\u001b[0m     \u001b[38;5;28;01mif\u001b[39;00m \u001b[38;5;124m\"\u001b[39m\u001b[38;5;124mb\u001b[39m\u001b[38;5;124m\"\u001b[39m \u001b[38;5;129;01mnot\u001b[39;00m \u001b[38;5;129;01min\u001b[39;00m mode:\n\u001b[1;32m   1734\u001b[0m         mode \u001b[38;5;241m+\u001b[39m\u001b[38;5;241m=\u001b[39m \u001b[38;5;124m\"\u001b[39m\u001b[38;5;124mb\u001b[39m\u001b[38;5;124m\"\u001b[39m\n\u001b[0;32m-> 1735\u001b[0m \u001b[38;5;28mself\u001b[39m\u001b[38;5;241m.\u001b[39mhandles \u001b[38;5;241m=\u001b[39m \u001b[43mget_handle\u001b[49m\u001b[43m(\u001b[49m\n\u001b[1;32m   1736\u001b[0m \u001b[43m    \u001b[49m\u001b[43mf\u001b[49m\u001b[43m,\u001b[49m\n\u001b[1;32m   1737\u001b[0m \u001b[43m    \u001b[49m\u001b[43mmode\u001b[49m\u001b[43m,\u001b[49m\n\u001b[1;32m   1738\u001b[0m \u001b[43m    \u001b[49m\u001b[43mencoding\u001b[49m\u001b[38;5;241;43m=\u001b[39;49m\u001b[38;5;28;43mself\u001b[39;49m\u001b[38;5;241;43m.\u001b[39;49m\u001b[43moptions\u001b[49m\u001b[38;5;241;43m.\u001b[39;49m\u001b[43mget\u001b[49m\u001b[43m(\u001b[49m\u001b[38;5;124;43m\"\u001b[39;49m\u001b[38;5;124;43mencoding\u001b[39;49m\u001b[38;5;124;43m\"\u001b[39;49m\u001b[43m,\u001b[49m\u001b[43m \u001b[49m\u001b[38;5;28;43;01mNone\u001b[39;49;00m\u001b[43m)\u001b[49m\u001b[43m,\u001b[49m\n\u001b[1;32m   1739\u001b[0m \u001b[43m    \u001b[49m\u001b[43mcompression\u001b[49m\u001b[38;5;241;43m=\u001b[39;49m\u001b[38;5;28;43mself\u001b[39;49m\u001b[38;5;241;43m.\u001b[39;49m\u001b[43moptions\u001b[49m\u001b[38;5;241;43m.\u001b[39;49m\u001b[43mget\u001b[49m\u001b[43m(\u001b[49m\u001b[38;5;124;43m\"\u001b[39;49m\u001b[38;5;124;43mcompression\u001b[39;49m\u001b[38;5;124;43m\"\u001b[39;49m\u001b[43m,\u001b[49m\u001b[43m \u001b[49m\u001b[38;5;28;43;01mNone\u001b[39;49;00m\u001b[43m)\u001b[49m\u001b[43m,\u001b[49m\n\u001b[1;32m   1740\u001b[0m \u001b[43m    \u001b[49m\u001b[43mmemory_map\u001b[49m\u001b[38;5;241;43m=\u001b[39;49m\u001b[38;5;28;43mself\u001b[39;49m\u001b[38;5;241;43m.\u001b[39;49m\u001b[43moptions\u001b[49m\u001b[38;5;241;43m.\u001b[39;49m\u001b[43mget\u001b[49m\u001b[43m(\u001b[49m\u001b[38;5;124;43m\"\u001b[39;49m\u001b[38;5;124;43mmemory_map\u001b[39;49m\u001b[38;5;124;43m\"\u001b[39;49m\u001b[43m,\u001b[49m\u001b[43m \u001b[49m\u001b[38;5;28;43;01mFalse\u001b[39;49;00m\u001b[43m)\u001b[49m\u001b[43m,\u001b[49m\n\u001b[1;32m   1741\u001b[0m \u001b[43m    \u001b[49m\u001b[43mis_text\u001b[49m\u001b[38;5;241;43m=\u001b[39;49m\u001b[43mis_text\u001b[49m\u001b[43m,\u001b[49m\n\u001b[1;32m   1742\u001b[0m \u001b[43m    \u001b[49m\u001b[43merrors\u001b[49m\u001b[38;5;241;43m=\u001b[39;49m\u001b[38;5;28;43mself\u001b[39;49m\u001b[38;5;241;43m.\u001b[39;49m\u001b[43moptions\u001b[49m\u001b[38;5;241;43m.\u001b[39;49m\u001b[43mget\u001b[49m\u001b[43m(\u001b[49m\u001b[38;5;124;43m\"\u001b[39;49m\u001b[38;5;124;43mencoding_errors\u001b[39;49m\u001b[38;5;124;43m\"\u001b[39;49m\u001b[43m,\u001b[49m\u001b[43m \u001b[49m\u001b[38;5;124;43m\"\u001b[39;49m\u001b[38;5;124;43mstrict\u001b[39;49m\u001b[38;5;124;43m\"\u001b[39;49m\u001b[43m)\u001b[49m\u001b[43m,\u001b[49m\n\u001b[1;32m   1743\u001b[0m \u001b[43m    \u001b[49m\u001b[43mstorage_options\u001b[49m\u001b[38;5;241;43m=\u001b[39;49m\u001b[38;5;28;43mself\u001b[39;49m\u001b[38;5;241;43m.\u001b[39;49m\u001b[43moptions\u001b[49m\u001b[38;5;241;43m.\u001b[39;49m\u001b[43mget\u001b[49m\u001b[43m(\u001b[49m\u001b[38;5;124;43m\"\u001b[39;49m\u001b[38;5;124;43mstorage_options\u001b[39;49m\u001b[38;5;124;43m\"\u001b[39;49m\u001b[43m,\u001b[49m\u001b[43m \u001b[49m\u001b[38;5;28;43;01mNone\u001b[39;49;00m\u001b[43m)\u001b[49m\u001b[43m,\u001b[49m\n\u001b[1;32m   1744\u001b[0m \u001b[43m\u001b[49m\u001b[43m)\u001b[49m\n\u001b[1;32m   1745\u001b[0m \u001b[38;5;28;01massert\u001b[39;00m \u001b[38;5;28mself\u001b[39m\u001b[38;5;241m.\u001b[39mhandles \u001b[38;5;129;01mis\u001b[39;00m \u001b[38;5;129;01mnot\u001b[39;00m \u001b[38;5;28;01mNone\u001b[39;00m\n\u001b[1;32m   1746\u001b[0m f \u001b[38;5;241m=\u001b[39m \u001b[38;5;28mself\u001b[39m\u001b[38;5;241m.\u001b[39mhandles\u001b[38;5;241m.\u001b[39mhandle\n",
      "File \u001b[0;32m/Library/Frameworks/Python.framework/Versions/3.9/lib/python3.9/site-packages/pandas/io/common.py:856\u001b[0m, in \u001b[0;36mget_handle\u001b[0;34m(path_or_buf, mode, encoding, compression, memory_map, is_text, errors, storage_options)\u001b[0m\n\u001b[1;32m    851\u001b[0m \u001b[38;5;28;01melif\u001b[39;00m \u001b[38;5;28misinstance\u001b[39m(handle, \u001b[38;5;28mstr\u001b[39m):\n\u001b[1;32m    852\u001b[0m     \u001b[38;5;66;03m# Check whether the filename is to be opened in binary mode.\u001b[39;00m\n\u001b[1;32m    853\u001b[0m     \u001b[38;5;66;03m# Binary mode does not support 'encoding' and 'newline'.\u001b[39;00m\n\u001b[1;32m    854\u001b[0m     \u001b[38;5;28;01mif\u001b[39;00m ioargs\u001b[38;5;241m.\u001b[39mencoding \u001b[38;5;129;01mand\u001b[39;00m \u001b[38;5;124m\"\u001b[39m\u001b[38;5;124mb\u001b[39m\u001b[38;5;124m\"\u001b[39m \u001b[38;5;129;01mnot\u001b[39;00m \u001b[38;5;129;01min\u001b[39;00m ioargs\u001b[38;5;241m.\u001b[39mmode:\n\u001b[1;32m    855\u001b[0m         \u001b[38;5;66;03m# Encoding\u001b[39;00m\n\u001b[0;32m--> 856\u001b[0m         handle \u001b[38;5;241m=\u001b[39m \u001b[38;5;28;43mopen\u001b[39;49m\u001b[43m(\u001b[49m\n\u001b[1;32m    857\u001b[0m \u001b[43m            \u001b[49m\u001b[43mhandle\u001b[49m\u001b[43m,\u001b[49m\n\u001b[1;32m    858\u001b[0m \u001b[43m            \u001b[49m\u001b[43mioargs\u001b[49m\u001b[38;5;241;43m.\u001b[39;49m\u001b[43mmode\u001b[49m\u001b[43m,\u001b[49m\n\u001b[1;32m    859\u001b[0m \u001b[43m            \u001b[49m\u001b[43mencoding\u001b[49m\u001b[38;5;241;43m=\u001b[39;49m\u001b[43mioargs\u001b[49m\u001b[38;5;241;43m.\u001b[39;49m\u001b[43mencoding\u001b[49m\u001b[43m,\u001b[49m\n\u001b[1;32m    860\u001b[0m \u001b[43m            \u001b[49m\u001b[43merrors\u001b[49m\u001b[38;5;241;43m=\u001b[39;49m\u001b[43merrors\u001b[49m\u001b[43m,\u001b[49m\n\u001b[1;32m    861\u001b[0m \u001b[43m            \u001b[49m\u001b[43mnewline\u001b[49m\u001b[38;5;241;43m=\u001b[39;49m\u001b[38;5;124;43m\"\u001b[39;49m\u001b[38;5;124;43m\"\u001b[39;49m\u001b[43m,\u001b[49m\n\u001b[1;32m    862\u001b[0m \u001b[43m        \u001b[49m\u001b[43m)\u001b[49m\n\u001b[1;32m    863\u001b[0m     \u001b[38;5;28;01melse\u001b[39;00m:\n\u001b[1;32m    864\u001b[0m         \u001b[38;5;66;03m# Binary mode\u001b[39;00m\n\u001b[1;32m    865\u001b[0m         handle \u001b[38;5;241m=\u001b[39m \u001b[38;5;28mopen\u001b[39m(handle, ioargs\u001b[38;5;241m.\u001b[39mmode)\n",
      "\u001b[0;31mFileNotFoundError\u001b[0m: [Errno 2] No such file or directory: 'data/island-data-bottle-round-3/prices_round_3_day_0.csv'"
     ]
    },
    {
     "data": {
      "application/vnd.jupyter.widget-view+json": {
       "model_id": "c2209081a0a144c0bca63c88e3bd4f78",
       "version_major": 2,
       "version_minor": 0
      },
      "text/plain": [
       "interactive(children=(SelectMultiple(description='products', index=(1, 2), options=('BERRIES', 'DIVING_GEAR', …"
      ]
     },
     "metadata": {},
     "output_type": "display_data"
    }
   ],
   "source": [
    "profit_gui()"
   ]
  },
  {
   "cell_type": "markdown",
   "metadata": {},
   "source": [
    "There will be no significant price trend between 2000-4000(5:00-10:00). Significant upward trend takes place between 4000-5500 (10:00-12:00), followed by a downward trend between 5500-7000(12:00-16:00). After 7000(16:00), price exhibits no predictable trend."
   ]
  },
  {
   "cell_type": "markdown",
   "metadata": {},
   "source": [
    "---"
   ]
  },
  {
   "cell_type": "markdown",
   "metadata": {},
   "source": [
    "### Arbitrage"
   ]
  },
  {
   "cell_type": "code",
   "execution_count": null,
   "metadata": {},
   "outputs": [],
   "source": [
    "def update_arbitrage_plot(day, start, end, window_smaller, window_larger, n):\n",
    "    if start >= end:\n",
    "        return\n",
    "    # day = 0 # 0, 1 or 2\n",
    "    csv_path = f\"data/island-data-bottle-round-3/prices_round_3_day_{day}.csv\"\n",
    "    # csv_path = f\"logs/price-diff-larger=45-smaller=35.csv\"\n",
    "    df = pd.read_csv(csv_path, delimiter=';')\n",
    "\n",
    "    fig, axes = plt.subplots(2, 1, figsize=(20, 12), sharex=True)\n",
    "    fig.suptitle(f\"arbitrage day {day}\")\n",
    "    fig.set_tight_layout(True)\n",
    "    fig.set_facecolor('white')\n",
    "\n",
    "    coco_df = df.loc[df[\"product\"] == \"COCONUTS\"]\n",
    "\n",
    "    pina_df = df.loc[df[\"product\"] == \"PINA_COLADAS\"]\n",
    "    coco_subset = coco_df[\"mid_price\"][start:end]\n",
    "\n",
    "    pina_subset = pina_df[\"mid_price\"][start:end]\n",
    "\n",
    "    x = np.array(range(start, end))\n",
    "    y = np.array(coco_df[\"mid_price\"][start:end] * 15) - np.array(pina_df[\"mid_price\"][start:end] * 8)\n",
    "    y_sum = np.array(coco_df[\"mid_price\"][start:end] * 15) + np.array(pina_df[\"mid_price\"][start:end] * 8)\n",
    "    \n",
    "\n",
    "    axes[0].set_ylim(bottom=np.min(y), top=np.max(y))\n",
    "\n",
    "    axes[0].plot(x, y, label=\"mid price difference\")\n",
    "    axes[1].plot(x, coco_subset * 15, label=\"coconuts\")\n",
    "    axes[1].plot(x, pina_subset * 8, label=\"pina coladas\")\n",
    "    # axes[1].plot(x, y_sum, label=\"pina coladas\")\n",
    "    # axes[0].plot(x, berries_df[\"bid_price_1\"][start:end],\n",
    "    #              label=\"best bid\", linewidth=.4, alpha=0.5)\n",
    "    # axes[0].plot(x, berries_df[\"ask_price_1\"][start:end],\n",
    "    #              label=\"best ask\", linewidth=.4, alpha=0.5)\n",
    "\n",
    "    # blg\n",
    "    avg, std = blg(np.array(y), window_smaller)\n",
    "    avg_larger, _ = blg(np.array(y), window_larger)\n",
    "    diff = avg - avg_larger\n",
    "    idx = np.argwhere(np.diff(np.sign(diff))).flatten()\n",
    "\n",
    "    dydx = np.gradient(avg, x)\n",
    "    d2ydx2 = np.gradient(dydx, x)\n",
    "\n",
    "    # Find the locations of the turning points\n",
    "    turning_indices = np.where(np.diff(np.sign(dydx)))[0] + 1\n",
    "\n",
    "    upper = avg + n * std\n",
    "    lower = avg - n * std\n",
    "    if n > 0 and window_smaller > 0 and window_larger > 0:\n",
    "        axes[0].plot(x, avg, label=\"moving avg\")\n",
    "        axes[0].plot(x, avg_larger, label=\"moving avg\", zorder=10)\n",
    "        axes[0].fill_between(x, upper, lower, alpha=0.3)\n",
    "        axes[0].scatter(x[y > upper], y[y > upper], marker='o',\n",
    "                        color='red', s=50000/(end-start), zorder=2)\n",
    "        axes[0].scatter(x[y < lower], y[y < lower], marker='o',\n",
    "                        color='red', s=50000/(end-start), zorder=2)\n",
    "        axes[0].scatter(x[idx], avg[idx], marker='o',\n",
    "                        color='blue', s=50000/(end-start), zorder=2)\n",
    "        # axes[0].scatter(x[turning_indices], avg[turning_indices], marker='o',\n",
    "        #                 color='blue', s=50000/(end-start), zorder=2)\n",
    "\n",
    "    axes[0].legend(loc='upper left')\n",
    "    axes[1].legend(loc='upper left')\n",
    "\n",
    "    for ax in axes:\n",
    "        ax.grid(True, linestyle='--', linewidth=0.5, color='gray', alpha=0.5)\n",
    "        ax.set_xticks(np.arange(start, end, max(100, (end-start)//40)))\n",
    "    plt.xticks(rotation=45)\n",
    "\n",
    "\n",
    "def arbitrage_gui():\n",
    "    product_select = widgets.SelectMultiple(options=[\"BERRIES\", \"DIVING_GEAR\", \"DOLPHIN_SIGHTINGS\",\"COCONUTS\",\"PINA_COLADAS\"],\n",
    "                                            value=[\"DIVING_GEAR\",\n",
    "                                                   \"DOLPHIN_SIGHTINGS\"])\n",
    "    day_dropdown = widgets.Dropdown(options=[0, 1, 2], value=0)\n",
    "    starting_slider = widgets.IntSlider(min=0, max=10000, step=1, value=0)\n",
    "    end_slider = widgets.IntSlider(min=0, max=10000, step=1, value=1000)\n",
    "    window_slider = widgets.IntSlider(min=0, max=1000, step=1, value=35)\n",
    "    window_slider2 = widgets.IntSlider(min=0, max=1000, step=1, value=45)\n",
    "    n_slider = widgets.FloatSlider(min=0, max=10, step=0.1, value=4)\n",
    "    plateau_starts = widgets.IntSlider(min=0, max=10000, step=1, value=2000)\n",
    "    upward_starts = widgets.IntSlider(min=0, max=10000, step=1, value=4000)\n",
    "    down_starts = widgets.IntSlider(min=0, max=10000, step=1, value=5500)\n",
    "    down_ends = widgets.IntSlider(min=0, max=10000, step=1, value=7000)\n",
    "    widgets.interact(update_arbitrage_plot,\n",
    "                     day=day_dropdown,\n",
    "                     start=(starting_slider),\n",
    "                     end=(end_slider),\n",
    "                     window_smaller=window_slider,\n",
    "                     window_larger=window_slider2,\n",
    "                     n=n_slider,\n",
    "                     )\n"
   ]
  },
  {
   "cell_type": "markdown",
   "metadata": {},
   "source": [
    "👇 RUN ME TO GET GRAPH 👇"
   ]
  },
  {
   "cell_type": "code",
   "execution_count": null,
   "metadata": {},
   "outputs": [
    {
     "ename": "FileNotFoundError",
     "evalue": "[Errno 2] No such file or directory: 'data/island-data-bottle-round-3/prices_round_3_day_0.csv'",
     "output_type": "error",
     "traceback": [
      "\u001b[0;31m---------------------------------------------------------------------------\u001b[0m",
      "\u001b[0;31mFileNotFoundError\u001b[0m                         Traceback (most recent call last)",
      "File \u001b[0;32m/Library/Frameworks/Python.framework/Versions/3.9/lib/python3.9/site-packages/ipywidgets/widgets/interaction.py:240\u001b[0m, in \u001b[0;36minteractive.update\u001b[0;34m(self, *args)\u001b[0m\n\u001b[1;32m    238\u001b[0m     value \u001b[38;5;241m=\u001b[39m widget\u001b[38;5;241m.\u001b[39mget_interact_value()\n\u001b[1;32m    239\u001b[0m     \u001b[38;5;28mself\u001b[39m\u001b[38;5;241m.\u001b[39mkwargs[widget\u001b[38;5;241m.\u001b[39m_kwarg] \u001b[38;5;241m=\u001b[39m value\n\u001b[0;32m--> 240\u001b[0m \u001b[38;5;28mself\u001b[39m\u001b[38;5;241m.\u001b[39mresult \u001b[38;5;241m=\u001b[39m \u001b[38;5;28;43mself\u001b[39;49m\u001b[38;5;241;43m.\u001b[39;49m\u001b[43mf\u001b[49m\u001b[43m(\u001b[49m\u001b[38;5;241;43m*\u001b[39;49m\u001b[38;5;241;43m*\u001b[39;49m\u001b[38;5;28;43mself\u001b[39;49m\u001b[38;5;241;43m.\u001b[39;49m\u001b[43mkwargs\u001b[49m\u001b[43m)\u001b[49m\n\u001b[1;32m    241\u001b[0m show_inline_matplotlib_plots()\n\u001b[1;32m    242\u001b[0m \u001b[38;5;28;01mif\u001b[39;00m \u001b[38;5;28mself\u001b[39m\u001b[38;5;241m.\u001b[39mauto_display \u001b[38;5;129;01mand\u001b[39;00m \u001b[38;5;28mself\u001b[39m\u001b[38;5;241m.\u001b[39mresult \u001b[38;5;129;01mis\u001b[39;00m \u001b[38;5;129;01mnot\u001b[39;00m \u001b[38;5;28;01mNone\u001b[39;00m:\n",
      "Cell \u001b[0;32mIn[59], line 7\u001b[0m, in \u001b[0;36mupdate_arbitrage_plot\u001b[0;34m(day, start, end, window_smaller, window_larger, n)\u001b[0m\n\u001b[1;32m      5\u001b[0m csv_path \u001b[38;5;241m=\u001b[39m \u001b[38;5;124mf\u001b[39m\u001b[38;5;124m\"\u001b[39m\u001b[38;5;124mdata/island-data-bottle-round-3/prices_round_3_day_\u001b[39m\u001b[38;5;132;01m{\u001b[39;00mday\u001b[38;5;132;01m}\u001b[39;00m\u001b[38;5;124m.csv\u001b[39m\u001b[38;5;124m\"\u001b[39m\n\u001b[1;32m      6\u001b[0m \u001b[38;5;66;03m# csv_path = f\"logs/price-diff-larger=45-smaller=35.csv\"\u001b[39;00m\n\u001b[0;32m----> 7\u001b[0m df \u001b[38;5;241m=\u001b[39m \u001b[43mpd\u001b[49m\u001b[38;5;241;43m.\u001b[39;49m\u001b[43mread_csv\u001b[49m\u001b[43m(\u001b[49m\u001b[43mcsv_path\u001b[49m\u001b[43m,\u001b[49m\u001b[43m \u001b[49m\u001b[43mdelimiter\u001b[49m\u001b[38;5;241;43m=\u001b[39;49m\u001b[38;5;124;43m'\u001b[39;49m\u001b[38;5;124;43m;\u001b[39;49m\u001b[38;5;124;43m'\u001b[39;49m\u001b[43m)\u001b[49m\n\u001b[1;32m      9\u001b[0m fig, axes \u001b[38;5;241m=\u001b[39m plt\u001b[38;5;241m.\u001b[39msubplots(\u001b[38;5;241m2\u001b[39m, \u001b[38;5;241m1\u001b[39m, figsize\u001b[38;5;241m=\u001b[39m(\u001b[38;5;241m20\u001b[39m, \u001b[38;5;241m12\u001b[39m), sharex\u001b[38;5;241m=\u001b[39m\u001b[38;5;28;01mTrue\u001b[39;00m)\n\u001b[1;32m     10\u001b[0m fig\u001b[38;5;241m.\u001b[39msuptitle(\u001b[38;5;124mf\u001b[39m\u001b[38;5;124m\"\u001b[39m\u001b[38;5;124marbitrage day \u001b[39m\u001b[38;5;132;01m{\u001b[39;00mday\u001b[38;5;132;01m}\u001b[39;00m\u001b[38;5;124m\"\u001b[39m)\n",
      "File \u001b[0;32m/Library/Frameworks/Python.framework/Versions/3.9/lib/python3.9/site-packages/pandas/util/_decorators.py:211\u001b[0m, in \u001b[0;36mdeprecate_kwarg.<locals>._deprecate_kwarg.<locals>.wrapper\u001b[0;34m(*args, **kwargs)\u001b[0m\n\u001b[1;32m    209\u001b[0m     \u001b[38;5;28;01melse\u001b[39;00m:\n\u001b[1;32m    210\u001b[0m         kwargs[new_arg_name] \u001b[38;5;241m=\u001b[39m new_arg_value\n\u001b[0;32m--> 211\u001b[0m \u001b[38;5;28;01mreturn\u001b[39;00m \u001b[43mfunc\u001b[49m\u001b[43m(\u001b[49m\u001b[38;5;241;43m*\u001b[39;49m\u001b[43margs\u001b[49m\u001b[43m,\u001b[49m\u001b[43m \u001b[49m\u001b[38;5;241;43m*\u001b[39;49m\u001b[38;5;241;43m*\u001b[39;49m\u001b[43mkwargs\u001b[49m\u001b[43m)\u001b[49m\n",
      "File \u001b[0;32m/Library/Frameworks/Python.framework/Versions/3.9/lib/python3.9/site-packages/pandas/util/_decorators.py:331\u001b[0m, in \u001b[0;36mdeprecate_nonkeyword_arguments.<locals>.decorate.<locals>.wrapper\u001b[0;34m(*args, **kwargs)\u001b[0m\n\u001b[1;32m    325\u001b[0m \u001b[38;5;28;01mif\u001b[39;00m \u001b[38;5;28mlen\u001b[39m(args) \u001b[38;5;241m>\u001b[39m num_allow_args:\n\u001b[1;32m    326\u001b[0m     warnings\u001b[38;5;241m.\u001b[39mwarn(\n\u001b[1;32m    327\u001b[0m         msg\u001b[38;5;241m.\u001b[39mformat(arguments\u001b[38;5;241m=\u001b[39m_format_argument_list(allow_args)),\n\u001b[1;32m    328\u001b[0m         \u001b[38;5;167;01mFutureWarning\u001b[39;00m,\n\u001b[1;32m    329\u001b[0m         stacklevel\u001b[38;5;241m=\u001b[39mfind_stack_level(),\n\u001b[1;32m    330\u001b[0m     )\n\u001b[0;32m--> 331\u001b[0m \u001b[38;5;28;01mreturn\u001b[39;00m \u001b[43mfunc\u001b[49m\u001b[43m(\u001b[49m\u001b[38;5;241;43m*\u001b[39;49m\u001b[43margs\u001b[49m\u001b[43m,\u001b[49m\u001b[43m \u001b[49m\u001b[38;5;241;43m*\u001b[39;49m\u001b[38;5;241;43m*\u001b[39;49m\u001b[43mkwargs\u001b[49m\u001b[43m)\u001b[49m\n",
      "File \u001b[0;32m/Library/Frameworks/Python.framework/Versions/3.9/lib/python3.9/site-packages/pandas/io/parsers/readers.py:950\u001b[0m, in \u001b[0;36mread_csv\u001b[0;34m(filepath_or_buffer, sep, delimiter, header, names, index_col, usecols, squeeze, prefix, mangle_dupe_cols, dtype, engine, converters, true_values, false_values, skipinitialspace, skiprows, skipfooter, nrows, na_values, keep_default_na, na_filter, verbose, skip_blank_lines, parse_dates, infer_datetime_format, keep_date_col, date_parser, dayfirst, cache_dates, iterator, chunksize, compression, thousands, decimal, lineterminator, quotechar, quoting, doublequote, escapechar, comment, encoding, encoding_errors, dialect, error_bad_lines, warn_bad_lines, on_bad_lines, delim_whitespace, low_memory, memory_map, float_precision, storage_options)\u001b[0m\n\u001b[1;32m    935\u001b[0m kwds_defaults \u001b[38;5;241m=\u001b[39m _refine_defaults_read(\n\u001b[1;32m    936\u001b[0m     dialect,\n\u001b[1;32m    937\u001b[0m     delimiter,\n\u001b[0;32m   (...)\u001b[0m\n\u001b[1;32m    946\u001b[0m     defaults\u001b[38;5;241m=\u001b[39m{\u001b[38;5;124m\"\u001b[39m\u001b[38;5;124mdelimiter\u001b[39m\u001b[38;5;124m\"\u001b[39m: \u001b[38;5;124m\"\u001b[39m\u001b[38;5;124m,\u001b[39m\u001b[38;5;124m\"\u001b[39m},\n\u001b[1;32m    947\u001b[0m )\n\u001b[1;32m    948\u001b[0m kwds\u001b[38;5;241m.\u001b[39mupdate(kwds_defaults)\n\u001b[0;32m--> 950\u001b[0m \u001b[38;5;28;01mreturn\u001b[39;00m \u001b[43m_read\u001b[49m\u001b[43m(\u001b[49m\u001b[43mfilepath_or_buffer\u001b[49m\u001b[43m,\u001b[49m\u001b[43m \u001b[49m\u001b[43mkwds\u001b[49m\u001b[43m)\u001b[49m\n",
      "File \u001b[0;32m/Library/Frameworks/Python.framework/Versions/3.9/lib/python3.9/site-packages/pandas/io/parsers/readers.py:605\u001b[0m, in \u001b[0;36m_read\u001b[0;34m(filepath_or_buffer, kwds)\u001b[0m\n\u001b[1;32m    602\u001b[0m _validate_names(kwds\u001b[38;5;241m.\u001b[39mget(\u001b[38;5;124m\"\u001b[39m\u001b[38;5;124mnames\u001b[39m\u001b[38;5;124m\"\u001b[39m, \u001b[38;5;28;01mNone\u001b[39;00m))\n\u001b[1;32m    604\u001b[0m \u001b[38;5;66;03m# Create the parser.\u001b[39;00m\n\u001b[0;32m--> 605\u001b[0m parser \u001b[38;5;241m=\u001b[39m \u001b[43mTextFileReader\u001b[49m\u001b[43m(\u001b[49m\u001b[43mfilepath_or_buffer\u001b[49m\u001b[43m,\u001b[49m\u001b[43m \u001b[49m\u001b[38;5;241;43m*\u001b[39;49m\u001b[38;5;241;43m*\u001b[39;49m\u001b[43mkwds\u001b[49m\u001b[43m)\u001b[49m\n\u001b[1;32m    607\u001b[0m \u001b[38;5;28;01mif\u001b[39;00m chunksize \u001b[38;5;129;01mor\u001b[39;00m iterator:\n\u001b[1;32m    608\u001b[0m     \u001b[38;5;28;01mreturn\u001b[39;00m parser\n",
      "File \u001b[0;32m/Library/Frameworks/Python.framework/Versions/3.9/lib/python3.9/site-packages/pandas/io/parsers/readers.py:1442\u001b[0m, in \u001b[0;36mTextFileReader.__init__\u001b[0;34m(self, f, engine, **kwds)\u001b[0m\n\u001b[1;32m   1439\u001b[0m     \u001b[38;5;28mself\u001b[39m\u001b[38;5;241m.\u001b[39moptions[\u001b[38;5;124m\"\u001b[39m\u001b[38;5;124mhas_index_names\u001b[39m\u001b[38;5;124m\"\u001b[39m] \u001b[38;5;241m=\u001b[39m kwds[\u001b[38;5;124m\"\u001b[39m\u001b[38;5;124mhas_index_names\u001b[39m\u001b[38;5;124m\"\u001b[39m]\n\u001b[1;32m   1441\u001b[0m \u001b[38;5;28mself\u001b[39m\u001b[38;5;241m.\u001b[39mhandles: IOHandles \u001b[38;5;241m|\u001b[39m \u001b[38;5;28;01mNone\u001b[39;00m \u001b[38;5;241m=\u001b[39m \u001b[38;5;28;01mNone\u001b[39;00m\n\u001b[0;32m-> 1442\u001b[0m \u001b[38;5;28mself\u001b[39m\u001b[38;5;241m.\u001b[39m_engine \u001b[38;5;241m=\u001b[39m \u001b[38;5;28;43mself\u001b[39;49m\u001b[38;5;241;43m.\u001b[39;49m\u001b[43m_make_engine\u001b[49m\u001b[43m(\u001b[49m\u001b[43mf\u001b[49m\u001b[43m,\u001b[49m\u001b[43m \u001b[49m\u001b[38;5;28;43mself\u001b[39;49m\u001b[38;5;241;43m.\u001b[39;49m\u001b[43mengine\u001b[49m\u001b[43m)\u001b[49m\n",
      "File \u001b[0;32m/Library/Frameworks/Python.framework/Versions/3.9/lib/python3.9/site-packages/pandas/io/parsers/readers.py:1735\u001b[0m, in \u001b[0;36mTextFileReader._make_engine\u001b[0;34m(self, f, engine)\u001b[0m\n\u001b[1;32m   1733\u001b[0m     \u001b[38;5;28;01mif\u001b[39;00m \u001b[38;5;124m\"\u001b[39m\u001b[38;5;124mb\u001b[39m\u001b[38;5;124m\"\u001b[39m \u001b[38;5;129;01mnot\u001b[39;00m \u001b[38;5;129;01min\u001b[39;00m mode:\n\u001b[1;32m   1734\u001b[0m         mode \u001b[38;5;241m+\u001b[39m\u001b[38;5;241m=\u001b[39m \u001b[38;5;124m\"\u001b[39m\u001b[38;5;124mb\u001b[39m\u001b[38;5;124m\"\u001b[39m\n\u001b[0;32m-> 1735\u001b[0m \u001b[38;5;28mself\u001b[39m\u001b[38;5;241m.\u001b[39mhandles \u001b[38;5;241m=\u001b[39m \u001b[43mget_handle\u001b[49m\u001b[43m(\u001b[49m\n\u001b[1;32m   1736\u001b[0m \u001b[43m    \u001b[49m\u001b[43mf\u001b[49m\u001b[43m,\u001b[49m\n\u001b[1;32m   1737\u001b[0m \u001b[43m    \u001b[49m\u001b[43mmode\u001b[49m\u001b[43m,\u001b[49m\n\u001b[1;32m   1738\u001b[0m \u001b[43m    \u001b[49m\u001b[43mencoding\u001b[49m\u001b[38;5;241;43m=\u001b[39;49m\u001b[38;5;28;43mself\u001b[39;49m\u001b[38;5;241;43m.\u001b[39;49m\u001b[43moptions\u001b[49m\u001b[38;5;241;43m.\u001b[39;49m\u001b[43mget\u001b[49m\u001b[43m(\u001b[49m\u001b[38;5;124;43m\"\u001b[39;49m\u001b[38;5;124;43mencoding\u001b[39;49m\u001b[38;5;124;43m\"\u001b[39;49m\u001b[43m,\u001b[49m\u001b[43m \u001b[49m\u001b[38;5;28;43;01mNone\u001b[39;49;00m\u001b[43m)\u001b[49m\u001b[43m,\u001b[49m\n\u001b[1;32m   1739\u001b[0m \u001b[43m    \u001b[49m\u001b[43mcompression\u001b[49m\u001b[38;5;241;43m=\u001b[39;49m\u001b[38;5;28;43mself\u001b[39;49m\u001b[38;5;241;43m.\u001b[39;49m\u001b[43moptions\u001b[49m\u001b[38;5;241;43m.\u001b[39;49m\u001b[43mget\u001b[49m\u001b[43m(\u001b[49m\u001b[38;5;124;43m\"\u001b[39;49m\u001b[38;5;124;43mcompression\u001b[39;49m\u001b[38;5;124;43m\"\u001b[39;49m\u001b[43m,\u001b[49m\u001b[43m \u001b[49m\u001b[38;5;28;43;01mNone\u001b[39;49;00m\u001b[43m)\u001b[49m\u001b[43m,\u001b[49m\n\u001b[1;32m   1740\u001b[0m \u001b[43m    \u001b[49m\u001b[43mmemory_map\u001b[49m\u001b[38;5;241;43m=\u001b[39;49m\u001b[38;5;28;43mself\u001b[39;49m\u001b[38;5;241;43m.\u001b[39;49m\u001b[43moptions\u001b[49m\u001b[38;5;241;43m.\u001b[39;49m\u001b[43mget\u001b[49m\u001b[43m(\u001b[49m\u001b[38;5;124;43m\"\u001b[39;49m\u001b[38;5;124;43mmemory_map\u001b[39;49m\u001b[38;5;124;43m\"\u001b[39;49m\u001b[43m,\u001b[49m\u001b[43m \u001b[49m\u001b[38;5;28;43;01mFalse\u001b[39;49;00m\u001b[43m)\u001b[49m\u001b[43m,\u001b[49m\n\u001b[1;32m   1741\u001b[0m \u001b[43m    \u001b[49m\u001b[43mis_text\u001b[49m\u001b[38;5;241;43m=\u001b[39;49m\u001b[43mis_text\u001b[49m\u001b[43m,\u001b[49m\n\u001b[1;32m   1742\u001b[0m \u001b[43m    \u001b[49m\u001b[43merrors\u001b[49m\u001b[38;5;241;43m=\u001b[39;49m\u001b[38;5;28;43mself\u001b[39;49m\u001b[38;5;241;43m.\u001b[39;49m\u001b[43moptions\u001b[49m\u001b[38;5;241;43m.\u001b[39;49m\u001b[43mget\u001b[49m\u001b[43m(\u001b[49m\u001b[38;5;124;43m\"\u001b[39;49m\u001b[38;5;124;43mencoding_errors\u001b[39;49m\u001b[38;5;124;43m\"\u001b[39;49m\u001b[43m,\u001b[49m\u001b[43m \u001b[49m\u001b[38;5;124;43m\"\u001b[39;49m\u001b[38;5;124;43mstrict\u001b[39;49m\u001b[38;5;124;43m\"\u001b[39;49m\u001b[43m)\u001b[49m\u001b[43m,\u001b[49m\n\u001b[1;32m   1743\u001b[0m \u001b[43m    \u001b[49m\u001b[43mstorage_options\u001b[49m\u001b[38;5;241;43m=\u001b[39;49m\u001b[38;5;28;43mself\u001b[39;49m\u001b[38;5;241;43m.\u001b[39;49m\u001b[43moptions\u001b[49m\u001b[38;5;241;43m.\u001b[39;49m\u001b[43mget\u001b[49m\u001b[43m(\u001b[49m\u001b[38;5;124;43m\"\u001b[39;49m\u001b[38;5;124;43mstorage_options\u001b[39;49m\u001b[38;5;124;43m\"\u001b[39;49m\u001b[43m,\u001b[49m\u001b[43m \u001b[49m\u001b[38;5;28;43;01mNone\u001b[39;49;00m\u001b[43m)\u001b[49m\u001b[43m,\u001b[49m\n\u001b[1;32m   1744\u001b[0m \u001b[43m\u001b[49m\u001b[43m)\u001b[49m\n\u001b[1;32m   1745\u001b[0m \u001b[38;5;28;01massert\u001b[39;00m \u001b[38;5;28mself\u001b[39m\u001b[38;5;241m.\u001b[39mhandles \u001b[38;5;129;01mis\u001b[39;00m \u001b[38;5;129;01mnot\u001b[39;00m \u001b[38;5;28;01mNone\u001b[39;00m\n\u001b[1;32m   1746\u001b[0m f \u001b[38;5;241m=\u001b[39m \u001b[38;5;28mself\u001b[39m\u001b[38;5;241m.\u001b[39mhandles\u001b[38;5;241m.\u001b[39mhandle\n",
      "File \u001b[0;32m/Library/Frameworks/Python.framework/Versions/3.9/lib/python3.9/site-packages/pandas/io/common.py:856\u001b[0m, in \u001b[0;36mget_handle\u001b[0;34m(path_or_buf, mode, encoding, compression, memory_map, is_text, errors, storage_options)\u001b[0m\n\u001b[1;32m    851\u001b[0m \u001b[38;5;28;01melif\u001b[39;00m \u001b[38;5;28misinstance\u001b[39m(handle, \u001b[38;5;28mstr\u001b[39m):\n\u001b[1;32m    852\u001b[0m     \u001b[38;5;66;03m# Check whether the filename is to be opened in binary mode.\u001b[39;00m\n\u001b[1;32m    853\u001b[0m     \u001b[38;5;66;03m# Binary mode does not support 'encoding' and 'newline'.\u001b[39;00m\n\u001b[1;32m    854\u001b[0m     \u001b[38;5;28;01mif\u001b[39;00m ioargs\u001b[38;5;241m.\u001b[39mencoding \u001b[38;5;129;01mand\u001b[39;00m \u001b[38;5;124m\"\u001b[39m\u001b[38;5;124mb\u001b[39m\u001b[38;5;124m\"\u001b[39m \u001b[38;5;129;01mnot\u001b[39;00m \u001b[38;5;129;01min\u001b[39;00m ioargs\u001b[38;5;241m.\u001b[39mmode:\n\u001b[1;32m    855\u001b[0m         \u001b[38;5;66;03m# Encoding\u001b[39;00m\n\u001b[0;32m--> 856\u001b[0m         handle \u001b[38;5;241m=\u001b[39m \u001b[38;5;28;43mopen\u001b[39;49m\u001b[43m(\u001b[49m\n\u001b[1;32m    857\u001b[0m \u001b[43m            \u001b[49m\u001b[43mhandle\u001b[49m\u001b[43m,\u001b[49m\n\u001b[1;32m    858\u001b[0m \u001b[43m            \u001b[49m\u001b[43mioargs\u001b[49m\u001b[38;5;241;43m.\u001b[39;49m\u001b[43mmode\u001b[49m\u001b[43m,\u001b[49m\n\u001b[1;32m    859\u001b[0m \u001b[43m            \u001b[49m\u001b[43mencoding\u001b[49m\u001b[38;5;241;43m=\u001b[39;49m\u001b[43mioargs\u001b[49m\u001b[38;5;241;43m.\u001b[39;49m\u001b[43mencoding\u001b[49m\u001b[43m,\u001b[49m\n\u001b[1;32m    860\u001b[0m \u001b[43m            \u001b[49m\u001b[43merrors\u001b[49m\u001b[38;5;241;43m=\u001b[39;49m\u001b[43merrors\u001b[49m\u001b[43m,\u001b[49m\n\u001b[1;32m    861\u001b[0m \u001b[43m            \u001b[49m\u001b[43mnewline\u001b[49m\u001b[38;5;241;43m=\u001b[39;49m\u001b[38;5;124;43m\"\u001b[39;49m\u001b[38;5;124;43m\"\u001b[39;49m\u001b[43m,\u001b[49m\n\u001b[1;32m    862\u001b[0m \u001b[43m        \u001b[49m\u001b[43m)\u001b[49m\n\u001b[1;32m    863\u001b[0m     \u001b[38;5;28;01melse\u001b[39;00m:\n\u001b[1;32m    864\u001b[0m         \u001b[38;5;66;03m# Binary mode\u001b[39;00m\n\u001b[1;32m    865\u001b[0m         handle \u001b[38;5;241m=\u001b[39m \u001b[38;5;28mopen\u001b[39m(handle, ioargs\u001b[38;5;241m.\u001b[39mmode)\n",
      "\u001b[0;31mFileNotFoundError\u001b[0m: [Errno 2] No such file or directory: 'data/island-data-bottle-round-3/prices_round_3_day_0.csv'"
     ]
    },
    {
     "data": {
      "application/vnd.jupyter.widget-view+json": {
       "model_id": "8cd4d86562ee431aac14b84652c9c4c1",
       "version_major": 2,
       "version_minor": 0
      },
      "text/plain": [
       "interactive(children=(Dropdown(description='day', options=(0, 1, 2), value=0), IntSlider(value=0, description=…"
      ]
     },
     "metadata": {},
     "output_type": "display_data"
    }
   ],
   "source": [
    "arbitrage_gui()"
   ]
  },
  {
   "cell_type": "code",
   "execution_count": null,
   "metadata": {},
   "outputs": [],
   "source": []
  }
 ],
 "metadata": {
  "kernelspec": {
   "display_name": "Python 3 (ipykernel)",
   "language": "python",
   "name": "python3"
  },
  "language_info": {
   "codemirror_mode": {
    "name": "ipython",
    "version": 3
   },
   "file_extension": ".py",
   "mimetype": "text/x-python",
   "name": "python",
   "nbconvert_exporter": "python",
   "pygments_lexer": "ipython3",
   "version": "3.9.12"
  }
 },
 "nbformat": 4,
 "nbformat_minor": 2
}
