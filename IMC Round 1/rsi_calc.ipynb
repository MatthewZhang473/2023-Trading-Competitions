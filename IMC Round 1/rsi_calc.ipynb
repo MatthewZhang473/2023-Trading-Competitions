{
 "cells": [
  {
   "cell_type": "code",
   "execution_count": null,
   "metadata": {},
   "outputs": [],
   "source": [
    "def rsi_calc(price_history:pd.DataFrame, n:int=20)->pd.DataFrame:\n",
    "    \"\"\"\n",
    "    Input: \n",
    "    price_history -- a pandas DataFrame of mid prices\n",
    "\n",
    "    Return:\n",
    "    rsi -- a pandas DataFrame of rsi indices, the first n elements will be NAN \n",
    "    \"\"\"\n",
    "    change = price_history.diff()\n",
    "    # Create two copies of the Closing price Series\n",
    "    change_up = change.copy()\n",
    "    change_down = change.copy()\n",
    "\n",
    "    # Seperate the upward changes, and download changes\n",
    "    change_up[change_up<0] = 0\n",
    "    change_down[change_down>0] = 0\n",
    "\n",
    "    # Verify that we did not make any mistakes\n",
    "    change.equals(change_up+change_down)\n",
    "\n",
    "    # Calculate the rolling average of average up and average down\n",
    "    avg_up = change_up.rolling(n).mean()\n",
    "    avg_down = change_down.rolling(n).mean().abs()\n",
    "    rsi = 100 - 100/(1+ (avg_up/avg_down))\n",
    "    return rsi"
   ]
  }
 ],
 "metadata": {
  "kernelspec": {
   "display_name": "Python 3",
   "language": "python",
   "name": "python3"
  },
  "language_info": {
   "codemirror_mode": {
    "name": "ipython",
    "version": 3
   },
   "file_extension": ".py",
   "mimetype": "text/x-python",
   "name": "python",
   "nbconvert_exporter": "python",
   "pygments_lexer": "ipython3",
   "version": "3.8.9"
  },
  "orig_nbformat": 4
 },
 "nbformat": 4,
 "nbformat_minor": 2
}
