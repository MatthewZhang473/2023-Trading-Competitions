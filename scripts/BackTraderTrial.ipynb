{
 "cells": [
  {
   "attachments": {},
   "cell_type": "markdown",
   "metadata": {},
   "source": [
    "# A ChatGPT generated code using the python library 'BackTrader'. Just for reference."
   ]
  },
  {
   "cell_type": "code",
   "execution_count": null,
   "metadata": {},
   "outputs": [],
   "source": [
    "! pip install backtrader"
   ]
  },
  {
   "attachments": {},
   "cell_type": "markdown",
   "metadata": {},
   "source": [
    "(All chatgpt generated, not quite working tho)This code defines a strategy that buys when the close price is above the 15-day moving average and sells when it is below. It then loads historical data for AAPL from Yahoo Finance and runs a backtest using the defined strategy. Note that this is just a simple example, and you will need to modify the code to suit your specific needs."
   ]
  },
  {
   "cell_type": "code",
   "execution_count": null,
   "metadata": {},
   "outputs": [],
   "source": [
    "import backtrader as bt\n",
    "from datetime import datetime  # add this line to import datetime\n",
    "class MyStrategy(bt.Strategy):\n",
    "\n",
    "    def __init__(self):\n",
    "        self.sma = bt.indicators.SimpleMovingAverage(self.data.close, period=15)\n",
    "\n",
    "    def next(self):\n",
    "        if self.data.close > self.sma:\n",
    "            self.buy()\n",
    "        elif self.data.close < self.sma:\n",
    "            self.sell()"
   ]
  },
  {
   "cell_type": "code",
   "execution_count": null,
   "metadata": {},
   "outputs": [],
   "source": [
    "cerebro = bt.Cerebro()\n",
    "\n",
    "data = bt.feeds.YahooFinanceData(dataname='AAPL', fromdate=datetime(2020, 1, 1), todate=datetime(2020, 12, 31))\n",
    "cerebro.adddata(data)\n",
    "\n",
    "cerebro.addstrategy(MyStrategy)\n",
    "\n",
    "cerebro.run()"
   ]
  }
 ],
 "metadata": {
  "kernelspec": {
   "display_name": "Python 3",
   "language": "python",
   "name": "python3"
  },
  "language_info": {
   "codemirror_mode": {
    "name": "ipython",
    "version": 3
   },
   "file_extension": ".py",
   "mimetype": "text/x-python",
   "name": "python",
   "nbconvert_exporter": "python",
   "pygments_lexer": "ipython3",
   "version": "3.8.9"
  },
  "orig_nbformat": 4
 },
 "nbformat": 4,
 "nbformat_minor": 2
}
