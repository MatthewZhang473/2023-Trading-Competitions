{
  "cells": [
    {
      "cell_type": "code",
      "execution_count": 1,
      "metadata": {
        "id": "9ojsYsMnwVxA"
      },
      "outputs": [],
      "source": [
        "import numpy as np"
      ]
    },
    {
      "cell_type": "code",
      "execution_count": 2,
      "metadata": {
        "id": "pmFve4O0wqGa"
      },
      "outputs": [],
      "source": [
        "def sigmoid(x:float):\n",
        "    \"\"\"\n",
        "    Sigmoid function\n",
        "    \"\"\"\n",
        "    y = 1 / (1+np.exp(-x))\n",
        "    return y"
      ]
    },
    {
      "cell_type": "code",
      "execution_count": 31,
      "metadata": {
        "id": "jieCCzQWxAtg"
      },
      "outputs": [],
      "source": [
        "offset = 10\n",
        "scale = 1.5"
      ]
    },
    {
      "cell_type": "code",
      "execution_count": 12,
      "metadata": {
        "id": "hhz6pa3Wwq2Z"
      },
      "outputs": [],
      "source": [
        "positions = np.arange(-20, 21, 1)"
      ]
    },
    {
      "cell_type": "code",
      "execution_count": 32,
      "metadata": {
        "colab": {
          "base_uri": "https://localhost:8080/"
        },
        "id": "7SrFzCHSw-i1",
        "outputId": "e4bcaf8b-4e07-4690-ff31-bd6da43f94fb"
      },
      "outputs": [
        {
          "name": "stdout",
          "output_type": "stream",
          "text": [
            "[0.9987289837369187, 0.9975273768433653, 0.9951952471128405, 0.9906840406549333, 0.9820137900379085, 0.9655548043337889, 0.935030830871336, 0.8807970779778823, 0.791391472673955, 0.6607563687658172, 0.5, 0.33924363123418283, 0.20860852732604496, 0.11920292202211755, 0.06496916912866407, 0.03444519566621117, 0.01798620996209156, 0.009315959345066686, 0.004804752887159518, 0.0024726231566347743, 0, 0.0024726231566347743, 0.004804752887159518, 0.009315959345066686, 0.01798620996209156, 0.03444519566621117, 0.06496916912866407, 0.11920292202211755, 0.20860852732604496, 0.33924363123418283, 0.5, 0.6607563687658172, 0.791391472673955, 0.8807970779778823, 0.935030830871336, 0.9655548043337889, 0.9820137900379085, 0.9906840406549333, 0.9951952471128405, 0.9975273768433653, 0.9987289837369187]\n"
          ]
        }
      ],
      "source": [
        "mappings = []\n",
        "for pos in positions:\n",
        "    if pos == 0:\n",
        "        mappings.append(0)\n",
        "    if pos > 0:\n",
        "        normalized_pos = (pos - offset)/scale\n",
        "        map = sigmoid(normalized_pos)\n",
        "        mappings.append(map)\n",
        "    if pos < 0:\n",
        "        normalized_pos = -(pos + offset)/scale\n",
        "        map = sigmoid(normalized_pos)\n",
        "        mappings.append(map)\n",
        "print(mappings)"
      ]
    },
    {
      "cell_type": "code",
      "execution_count": 33,
      "metadata": {
        "colab": {
          "base_uri": "https://localhost:8080/",
          "height": 295
        },
        "id": "iR0U6JUxyXXS",
        "outputId": "503257b0-5615-4e45-8da3-82149aa3de65"
      },
      "outputs": [
        {
          "data": {
            "image/png": "[encoded data removed]",
            "text/plain": [
              "<Figure size 432x288 with 1 Axes>"
            ]
          },
          "metadata": {
            "needs_background": "light"
          },
          "output_type": "display_data"
        }
      ],
      "source": [
        "import matplotlib.pyplot as plt\n",
        "# Create a scatter plot\n",
        "plt.plot(positions, mappings)\n",
        "\n",
        "# Add labels and title\n",
        "plt.xlabel('Positions')\n",
        "plt.ylabel('Mappings')\n",
        "plt.title('Positions vs. Mappings')\n",
        "\n",
        "# Show the plot\n",
        "plt.show()"
      ]
    }
  ],
  "metadata": {
    "colab": {
      "provenance": []
    },
    "kernelspec": {
      "display_name": "Python 3",
      "name": "python3"
    },
    "language_info": {
      "codemirror_mode": {
        "name": "ipython",
        "version": 3
      },
      "file_extension": ".py",
      "mimetype": "text/x-python",
      "name": "python",
      "nbconvert_exporter": "python",
      "pygments_lexer": "ipython3",
      "version": "3.8.9"
    }
  },
  "nbformat": 4,
  "nbformat_minor": 0
}
