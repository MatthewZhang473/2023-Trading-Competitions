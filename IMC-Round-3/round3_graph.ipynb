{
 "cells": [
  {
   "cell_type": "markdown",
   "metadata": {},
   "source": [
    "### Helper Functions"
   ]
  },
  {
   "cell_type": "code",
   "execution_count": 101,
   "metadata": {},
   "outputs": [],
   "source": [
    "import numpy as np\n",
    "import re\n",
    "%matplotlib inline\n",
    "import matplotlib.pyplot as plt\n",
    "import pandas as pd\n",
    "import ipywidgets as widgets\n",
    "from IPython.display import display"
   ]
  },
  {
   "cell_type": "markdown",
   "metadata": {},
   "source": [
    "#### BLG & RSI"
   ]
  },
  {
   "cell_type": "code",
   "execution_count": 102,
   "metadata": {},
   "outputs": [],
   "source": [
    "def blg(mid_prices, window_size = 20):\n",
    "    cum_sum = np.cumsum(mid_prices)\n",
    "    window_sum = cum_sum[window_size:] - cum_sum[:-window_size]\n",
    "    window_avg = window_sum / window_size\n",
    "    cum_sum_sq = np.cumsum(np.square(mid_prices))\n",
    "    window_sum_sq = cum_sum_sq[window_size:] - cum_sum_sq[:-window_size]\n",
    "    window_avg_sq = window_sum_sq / window_size\n",
    "\n",
    "    window_variance = window_avg_sq - np.square(window_avg)\n",
    "    window_std = np.sqrt(window_variance)\n",
    "    return np.concatenate((np.full(window_size,np.nan),window_avg)), np.concatenate((np.full(window_size,np.nan),window_std))"
   ]
  },
  {
   "cell_type": "code",
   "execution_count": 103,
   "metadata": {},
   "outputs": [],
   "source": [
    "def rsi_calc(price_history:pd.DataFrame, n:int=20)->pd.DataFrame:\n",
    "    \"\"\"\n",
    "    Input: \n",
    "    price_history -- a pandas DataFrame of mid prices\n",
    "\n",
    "    Return:\n",
    "    rsi -- a pandas DataFrame of rsi indices, the first n elements will be NAN \n",
    "    \"\"\"\n",
    "    change = price_history.diff()\n",
    "    # Create two copies of the Closing price Series\n",
    "    change_up = change.copy()\n",
    "    change_down = change.copy()\n",
    "\n",
    "    # Seperate the upward changes, and download changes\n",
    "    change_up[change_up<0] = 0\n",
    "    change_down[change_down>0] = 0\n",
    "\n",
    "    # Verify that we did not make any mistakes\n",
    "    change.equals(change_up+change_down)\n",
    "\n",
    "    # Calculate the rolling average of average up and average down\n",
    "    avg_up = change_up.rolling(n).mean()\n",
    "    avg_down = change_down.rolling(n).mean().abs()\n",
    "    rsi = 100 - 100/(1+ (avg_up/avg_down))\n",
    "    return rsi"
   ]
  },
  {
   "cell_type": "markdown",
   "metadata": {},
   "source": [
    "#### Process"
   ]
  },
  {
   "cell_type": "code",
   "execution_count": 104,
   "metadata": {},
   "outputs": [],
   "source": [
    "import csv\n",
    "import os\n",
    "\n",
    "def process_log_file(filename):\n",
    "    \"\"\"\n",
    "    Reads a log file and extracts the contents after \"activities log:\" into a CSV file with the same name.\n",
    "    \"\"\"\n",
    "    with open(filename, 'r') as f:\n",
    "        lines = f.readlines()\n",
    "        print(f\"finished reading {filename}\")\n",
    "\n",
    "    # Find the index of the line that says \"activities log:\"\n",
    "    activities_index = -1\n",
    "    for i, line in enumerate(lines):\n",
    "        if line.startswith(\"Activities log:\"):\n",
    "            activities_index = i\n",
    "            break\n",
    "\n",
    "    # If \"activities log:\" is not found, return\n",
    "    if activities_index == -1:\n",
    "        return\n",
    "\n",
    "    # Extract the lines after \"activities log:\"\n",
    "    activities_lines = lines[activities_index + 1:]\n",
    "\n",
    "    # Remove any leading or trailing whitespace from each line\n",
    "    activities_lines = [line.strip() for line in activities_lines]\n",
    "\n",
    "    csv_filename = f\"{filename.split('.log')[0]}.csv\"\n",
    "    \n",
    "    if os.path.exists(csv_filename):\n",
    "        print(f\"Error: File '{csv_filename}' already exists.\")\n",
    "        return csv_filename\n",
    "\n",
    "    # Write the contents to a CSV file with the same name as the log file\n",
    "    with open(csv_filename, 'w', newline='') as f:\n",
    "        writer = csv.writer(f)\n",
    "        writer.writerows([line.split(',') for line in activities_lines])\n",
    "        print(f\"{csv_filename} created and written to.\")\n",
    "        return csv_filename"
   ]
  },
  {
   "cell_type": "code",
   "execution_count": 105,
   "metadata": {},
   "outputs": [],
   "source": [
    "def get_data(log_file_path, products):\n",
    "    # from csv in the log\n",
    "    csv_path = process_log_file(log_file_path)\n",
    "    with open(log_file_path, \"r\") as f:\n",
    "        log_file = f.read()\n",
    "\n",
    "    product_dfs = []\n",
    "    position_list = []\n",
    "    mid_prices_list = []\n",
    "    best_bid_prices_list = []\n",
    "    best_ask_prices_list = []\n",
    "    for product in products:\n",
    "        df = pd.read_csv(csv_path, delimiter=\";\")\n",
    "        product_df = df.loc[df[\"product\"]==product]\n",
    "        product_dfs.append(product_df)\n",
    "        mid_prices = np.array(product_df[\"mid_price\"])\n",
    "        best_bid_prices = np.array(product_df[\"bid_price_1\"])\n",
    "        best_ask_prices = np.array(product_df[\"ask_price_1\"])\n",
    "        mid_prices_list.append(mid_prices)\n",
    "        best_bid_prices_list.append(best_bid_prices)\n",
    "        best_ask_prices_list.append(best_ask_prices)\n",
    "\n",
    "        # directly from log\n",
    "        log_profits = re.findall(r\"if it is last round, profit = (-?\\d+(?:\\.\\d+)?)\", log_file)\n",
    "        positions = re.findall(rf\"{product}'s position = (-?\\d+)\", log_file)\n",
    "#         positions = [0] * (len(mid_prices)-len(positions)) + positions\n",
    "        positions = [float(num) for num in positions]\n",
    "        position_list.append(positions)\n",
    "        # buy_profit_margin = re.findall(r\"buy profit margin is (-?\\d+)\", log_file)\n",
    "        # buy_profit_margin = [float(x) for x in buy_profit_margin]\n",
    "        # sell_profit_margin = re.findall(r\"sell profit margin is (-?\\d+)\", log_file)\n",
    "        # sell_profit_margin = [float(x) for x in sell_profit_margin]\n",
    "\n",
    "    return product_dfs, mid_prices_list, position_list, best_bid_prices_list, best_ask_prices_list"
   ]
  },
  {
   "cell_type": "markdown",
   "metadata": {},
   "source": [
    "#### Plot"
   ]
  },
  {
   "cell_type": "code",
   "execution_count": 106,
   "metadata": {},
   "outputs": [],
   "source": [
    "def plot(mid_prices_list, window_size, n, bound, starting, end, log_file_path, \n",
    "         product_dfs, position_list, position_limits,\n",
    "         best_bid_list, best_ask_list):\n",
    "    start = starting\n",
    "    if (start >= end):\n",
    "        return\n",
    "    fig, axes = plt.subplots(3,1,figsize=(20, 12),sharex=True)\n",
    "    fig.suptitle(f\"{log_file_path.split('/')[-1]}\")\n",
    "    fig.set_tight_layout(True)\n",
    "    fig.set_facecolor('white')\n",
    "    \n",
    "    profits=[]\n",
    "    for product_df,positions,mid_prices,position_limit\\\n",
    "          in zip(product_dfs,position_list,mid_prices_list,position_limits):\n",
    "        x = np.array(range(start,end))\n",
    "        y = mid_prices[start:end]\n",
    "        product = product_df[\"product\"].iloc[0]\n",
    "\n",
    "        rsi = rsi_calc(pd.Series(mid_prices))\n",
    "\n",
    "        # avg_avg, _ = blg(avg, window_size)\n",
    "        # avg_avg = np.concatenate((avg[:start], avg_avg))\n",
    "        # dy = np.gradient(avg_avg)\n",
    "\n",
    "        # Find the indices where the sign of the derivative changes\n",
    "        # indices = np.where(np.diff(np.sign(dy)))[0]\n",
    "\n",
    "        # blg\n",
    "        avg, std = blg(mid_prices[start:end], window_size)\n",
    "        upper = avg + n * std + bound\n",
    "        lower = avg - n * std - bound\n",
    "\n",
    "        axes[0].plot(x, y, label=product, marker='o', markersize=1)\n",
    "        axes[0].set_ylabel(\"Mid price\")\n",
    "        if n > 0 and window_size > 0:\n",
    "            axes[0].plot(x, avg)\n",
    "            # axes[0].plot(x, avg_avg[:length], label=\"moving average's average\")\n",
    "            axes[0].fill_between(x, upper, lower, alpha=0.1)\n",
    "            # axes[0].fill_between(x, (avg_avg + n * std)[:length], (avg_avg - n * std)[:length], alpha=0.1)\n",
    "            # axes[0].scatter(x[indices],avg[indices], marker='o',color='blue', s=8000/length,zorder=2)\n",
    "            axes[0].scatter(x[y>upper],y[y>upper], marker='o',color='red', s=8000/end,zorder=2)\n",
    "            axes[0].scatter(x[y<lower],y[y<lower], marker='o',color='red', s=8000/end,zorder=2)\n",
    "        axes[0].legend(loc='upper left')\n",
    "\n",
    "        profits.append(product_df[\"profit_and_loss\"][start:end])\n",
    "        axes[1].plot(x, product_df[\"profit_and_loss\"][start:end], label=product)\n",
    "        axes[1].set_ylabel(\"Profit\")\n",
    "        axes[1].legend(loc='upper left')\n",
    "\n",
    "        axes[2].plot(x, positions[start:end], label=product)\n",
    "        axes[2].set_ylabel(\"Position\")\n",
    "        axes[2].set_ybound(-position_limit,position_limit)\n",
    "        axes[2].legend(loc='upper left')\n",
    "\n",
    "    axes[1].plot(np.sum(profits,axis=0))\n",
    "\n",
    "    # axes[3].plot(x, rsi[window_size:length], label=\"rsi\")\n",
    "    # if buy_profit_margin != [] and sell_profit_margin != []:\n",
    "    #     axes[3].plot(x,buy_profit_margin[window_size:length],label=\"buy profit margin\")\n",
    "    #     axes[3].plot(x,sell_profit_margin[window_size:length],label=\"sell profit margin\")\n",
    "\n",
    "    for ax in axes:\n",
    "        ax.grid(True, linestyle='--', linewidth=0.5, color='gray', alpha=0.5)\n",
    "        ax.set_xticks(np.arange(starting,end, max(1,(end-start)//40)))\n",
    "\n",
    "    plt.subplots_adjust(hspace=0)\n",
    "    plt.show()"
   ]
  },
  {
   "cell_type": "markdown",
   "metadata": {},
   "source": [
    "#### Plot From CSVs"
   ]
  },
  {
   "cell_type": "code",
   "execution_count": 121,
   "metadata": {},
   "outputs": [],
   "source": [
    "# log_name = \"\"\"\n",
    "# ruige\n",
    "# \"\"\"\n",
    "\n",
    "def gui(products, position_limits, normalization_multipliers,log_name):\n",
    "    def update_plot(window_size,starting,end,n):\n",
    "#         if log_file == ():\n",
    "#             print(\"Upload a log file first.\")\n",
    "#             return\n",
    "        \n",
    "#         log_name = log_file[0].name\n",
    "        log_file_path = f\"logs/{log_name.strip()}.log\"\n",
    "\n",
    "        \n",
    "        product_dfs, mid_prices_list, positions, best_bid_list, best_ask_list = get_data(\n",
    "            log_file_path, products)\n",
    "        \n",
    "        normalized_mid_prices = [mid_prices*mult for mid_prices,mult in zip(mid_prices_list, normalization_multipliers)]\n",
    "        \n",
    "        plot(\n",
    "            normalized_mid_prices, \n",
    "            window_size=int(window_size), n=n, bound=1, starting=int(starting), end=int(end),\n",
    "            log_file_path=log_file_path, product_dfs=product_dfs, position_list=positions,\n",
    "            position_limits=position_limits, best_bid_list=best_bid_list, best_ask_list=best_ask_list)\n",
    "\n",
    "\n",
    "#     uploader = widgets.FileUpload(accept='.log', multiple=False)\n",
    "\n",
    "    window_slider = widgets.FloatSlider(min=0, max=100, step=1, value=10)\n",
    "    n_slider = widgets.FloatSlider(min=0, max=10, step=0.1, value=1.5)\n",
    "    starting_slider = widgets.FloatSlider(min=0, max=1000, step=1, value=0)\n",
    "    end_slider = widgets.FloatSlider(min=0, max=1000, step=1, value=1000)\n",
    "    widgets.interact(update_plot,\n",
    "                     window_size=window_slider,\n",
    "                     starting=starting_slider,\n",
    "                     end=end_slider,\n",
    "                     n=n_slider,\n",
    "#                      log_file=uploader\n",
    "                     )\n"
   ]
  },
  {
   "cell_type": "markdown",
   "metadata": {},
   "source": [
    "### User's GUI"
   ]
  },
  {
   "cell_type": "markdown",
   "metadata": {},
   "source": [
    "👇 RUN ME TO GET GRAPH 👇"
   ]
  },
  {
   "cell_type": "code",
   "execution_count": 211,
   "metadata": {
    "scrolled": false
   },
   "outputs": [
    {
     "data": {
      "application/vnd.jupyter.widget-view+json": {
       "model_id": "a0b5c001d39149c187c99270a2961fa8",
       "version_major": 2,
       "version_minor": 0
      },
      "text/plain": [
       "interactive(children=(FloatSlider(value=10.0, description='window_size', step=1.0), FloatSlider(value=0.0, des…"
      ]
     },
     "metadata": {},
     "output_type": "display_data"
    }
   ],
   "source": [
    "products = [\n",
    "\"PINA_COLADAS\",\n",
    "\"COCONUTS\",\n",
    "# \"PEARLS\",\n",
    "# \"BANANAS\"\n",
    "]\n",
    "position_limits = [\n",
    "    300,\n",
    "    600,\n",
    "    # 20,\n",
    "    # 20\n",
    "]\n",
    "\n",
    "normalization_multipliers = [\n",
    "    8,\n",
    "    15,\n",
    "    # 1,\n",
    "    # 1,\n",
    "]\n",
    "\n",
    "gui(products, position_limits, normalization_multipliers,\n",
    "    log_name = \"blg-price-diff-window=35log\"\n",
    ")"
   ]
  },
  {
   "attachments": {},
   "cell_type": "markdown",
   "metadata": {},
   "source": [
    "### Berries Profit Estimation"
   ]
  },
  {
   "cell_type": "code",
   "execution_count": 109,
   "metadata": {},
   "outputs": [],
   "source": [
    "def update_profit_plot(products, day, start, end, window_size, n, plateau_starts, upward_starts, down_starts, down_ends):\n",
    "    if (len(products) == 0):\n",
    "        return\n",
    "    if start >= end:\n",
    "        return\n",
    "    # day = 0 # 0, 1 or 2\n",
    "    csv_path = f\"data/island-data-bottle-round-3/prices_round_3_day_{day}.csv\"\n",
    "    df = pd.read_csv(csv_path, delimiter=';')\n",
    "\n",
    "    fig, axes = plt.subplots(len(products)+1, 1, figsize=(20, 12), sharex=True)\n",
    "    fig.suptitle(f\"{products} day {day}\")\n",
    "    fig.set_tight_layout(True)\n",
    "    fig.set_facecolor('white')\n",
    "\n",
    "    for i, product in enumerate(products):\n",
    "        product_df = df.loc[df[\"product\"] == product]\n",
    "\n",
    "        x = np.array(range(start, end))\n",
    "        y = product_df[\"mid_price\"][start:end]\n",
    "\n",
    "        axes[i].set_ylim(bottom=np.min(y), top=np.max(y))\n",
    "\n",
    "        axes[i].plot(x, y, label=\"mid price\")\n",
    "        # axes[0].plot(x, berries_df[\"bid_price_1\"][start:end],\n",
    "        #              label=\"best bid\", linewidth=.4, alpha=0.5)\n",
    "        # axes[0].plot(x, berries_df[\"ask_price_1\"][start:end],\n",
    "        #              label=\"best ask\", linewidth=.4, alpha=0.5)\n",
    "        axes[i].fill_between(x, y, where=(x >= plateau_starts) & (\n",
    "            x <= upward_starts), alpha=0.15)\n",
    "        axes[i].fill_between(x, y, where=(x >= upward_starts) & (\n",
    "            x <= down_starts), alpha=0.15)\n",
    "        axes[i].fill_between(x, y, where=(x >= down_starts) & (\n",
    "            x <= down_ends), alpha=0.15)\n",
    "\n",
    "        # blg\n",
    "        avg, std = blg(\n",
    "            np.array(product_df[\"mid_price\"][start:end]), window_size)\n",
    "        upper = avg + n * std\n",
    "        lower = avg - n * std\n",
    "        if n > 0 and window_size > 0:\n",
    "            axes[i].plot(x, avg, label=\"moving avg\")\n",
    "            axes[i].fill_between(x, upper, lower, alpha=0.3)\n",
    "            axes[i].scatter(x[y > upper], y[y > upper], marker='o',\n",
    "                            color='red', s=20000/(end-start), zorder=2)\n",
    "            axes[i].scatter(x[y < lower], y[y < lower], marker='o',\n",
    "                            color='red', s=20000/(end-start), zorder=2)\n",
    "\n",
    "        axes[i].legend(loc='upper left')\n",
    "        axes[i].set_title(f\"{product}\")\n",
    "\n",
    "    for ax in axes:\n",
    "        ax.grid(True, linestyle='--', linewidth=0.5, color='gray', alpha=0.5)\n",
    "        ax.set_xticks(np.arange(start, end, max(100, (end-start)//40)))\n",
    "    plt.xticks(rotation=45)\n",
    "\n",
    "\n",
    "def profit_gui():\n",
    "    label = widgets.Label('Hold ctrl or shift to select multiple products:')\n",
    "    display(label)\n",
    "    product_select = widgets.SelectMultiple(options=[\"BERRIES\", \"DIVING_GEAR\", \"DOLPHIN_SIGHTINGS\",\"COCONUTS\",\"PINA_COLADAS\"],\n",
    "                                            value=[\"DIVING_GEAR\",\n",
    "                                                   \"DOLPHIN_SIGHTINGS\"])\n",
    "    day_dropdown = widgets.Dropdown(options=[0, 1, 2], value=0)\n",
    "    starting_slider = widgets.IntSlider(min=0, max=10000, step=1, value=0)\n",
    "    end_slider = widgets.IntSlider(min=0, max=10000, step=1, value=10000)\n",
    "    window_slider = widgets.IntSlider(min=0, max=1000, step=1, value=100)\n",
    "    n_slider = widgets.FloatSlider(min=0, max=10, step=0.1, value=2)\n",
    "    plateau_starts = widgets.IntSlider(min=0, max=10000, step=1, value=2000)\n",
    "    upward_starts = widgets.IntSlider(min=0, max=10000, step=1, value=4000)\n",
    "    down_starts = widgets.IntSlider(min=0, max=10000, step=1, value=5500)\n",
    "    down_ends = widgets.IntSlider(min=0, max=10000, step=1, value=7000)\n",
    "    widgets.interact(update_profit_plot,\n",
    "                     products=product_select,\n",
    "                     day=day_dropdown,\n",
    "                     start=(starting_slider),\n",
    "                     end=(end_slider),\n",
    "                     window_size=window_slider,\n",
    "                     n=n_slider,\n",
    "                     plateau_starts=plateau_starts,\n",
    "                     upward_starts=upward_starts,\n",
    "                     down_starts=down_starts,\n",
    "                     down_ends=down_ends,\n",
    "                     )\n"
   ]
  },
  {
   "attachments": {},
   "cell_type": "markdown",
   "metadata": {},
   "source": [
    "👇 RUN ME TO GET GRAPH 👇"
   ]
  },
  {
   "cell_type": "code",
   "execution_count": 110,
   "metadata": {},
   "outputs": [
    {
     "data": {
      "application/vnd.jupyter.widget-view+json": {
       "model_id": "0fc5412a97ed4d0fa394a205be093b98",
       "version_major": 2,
       "version_minor": 0
      },
      "text/plain": [
       "Label(value='Hold ctrl or shift to select multiple products:')"
      ]
     },
     "metadata": {},
     "output_type": "display_data"
    },
    {
     "data": {
      "application/vnd.jupyter.widget-view+json": {
       "model_id": "843bcad3998b4d09ac7e104e9156308a",
       "version_major": 2,
       "version_minor": 0
      },
      "text/plain": [
       "interactive(children=(SelectMultiple(description='products', index=(1, 2), options=('BERRIES', 'DIVING_GEAR', …"
      ]
     },
     "metadata": {},
     "output_type": "display_data"
    }
   ],
   "source": [
    "profit_gui()"
   ]
  },
  {
   "attachments": {},
   "cell_type": "markdown",
   "metadata": {},
   "source": [
    "There will be no significant price trend between 2000-4000(5:00-10:00). Significant upward trend takes place between 4000-5500 (10:00-12:00), followed by a downward trend between 5500-7000(12:00-16:00). After 7000(16:00), price exhibits no predictable trend."
   ]
  },
  {
   "attachments": {},
   "cell_type": "markdown",
   "metadata": {},
   "source": [
    "---"
   ]
  },
  {
   "cell_type": "markdown",
   "metadata": {},
   "source": [
    "### Arbitrage"
   ]
  },
  {
   "cell_type": "code",
   "execution_count": 214,
   "metadata": {},
   "outputs": [],
   "source": [
    "def update_arbitrage_plot(day, start, end, window_smaller, window_larger, n):\n",
    "    if start >= end:\n",
    "        return\n",
    "    # day = 0 # 0, 1 or 2\n",
    "    csv_path = f\"data/island-data-bottle-round-3/prices_round_3_day_{day}.csv\"\n",
    "    # csv_path = f\"logs/price-diff-larger=45-smaller=35.csv\"\n",
    "    df = pd.read_csv(csv_path, delimiter=';')\n",
    "\n",
    "    fig, axes = plt.subplots(2, 1, figsize=(20, 12), sharex=True)\n",
    "    fig.suptitle(f\"arbitrage day {day}\")\n",
    "    fig.set_tight_layout(True)\n",
    "    fig.set_facecolor('white')\n",
    "\n",
    "    coco_df = df.loc[df[\"product\"] == \"COCONUTS\"]\n",
    "\n",
    "    pina_df = df.loc[df[\"product\"] == \"PINA_COLADAS\"]\n",
    "    coco_subset = coco_df[\"mid_price\"][start:end]\n",
    "\n",
    "    pina_subset = pina_df[\"mid_price\"][start:end]\n",
    "\n",
    "    x = np.array(range(start, end))\n",
    "    y = np.array(coco_df[\"mid_price\"][start:end] * 15) - np.array(pina_df[\"mid_price\"][start:end] * 8)\n",
    "    y_sum = np.array(coco_df[\"mid_price\"][start:end] * 15) + np.array(pina_df[\"mid_price\"][start:end] * 8)\n",
    "    \n",
    "\n",
    "    axes[0].set_ylim(bottom=np.min(y), top=np.max(y))\n",
    "\n",
    "    axes[0].plot(x, y, label=\"mid price difference\")\n",
    "    axes[1].plot(x, coco_subset * 15, label=\"coconuts\")\n",
    "    axes[1].plot(x, pina_subset * 8, label=\"pina coladas\")\n",
    "    # axes[1].plot(x, y_sum, label=\"pina coladas\")\n",
    "    # axes[0].plot(x, berries_df[\"bid_price_1\"][start:end],\n",
    "    #              label=\"best bid\", linewidth=.4, alpha=0.5)\n",
    "    # axes[0].plot(x, berries_df[\"ask_price_1\"][start:end],\n",
    "    #              label=\"best ask\", linewidth=.4, alpha=0.5)\n",
    "\n",
    "    # blg\n",
    "    avg, std = blg(np.array(y), window_smaller)\n",
    "    avg_larger, _ = blg(np.array(y), window_larger)\n",
    "    diff = avg - avg_larger\n",
    "    idx = np.argwhere(np.diff(np.sign(diff))).flatten()\n",
    "\n",
    "    dydx = np.gradient(avg, x)\n",
    "    d2ydx2 = np.gradient(dydx, x)\n",
    "\n",
    "    # Find the locations of the turning points\n",
    "    turning_indices = np.where(np.diff(np.sign(dydx)))[0] + 1\n",
    "\n",
    "    upper = avg + n * std\n",
    "    lower = avg - n * std\n",
    "    if n > 0 and window_smaller > 0 and window_larger > 0:\n",
    "        axes[0].plot(x, avg, label=\"moving avg\")\n",
    "        axes[0].plot(x, avg_larger, label=\"moving avg\", zorder=10)\n",
    "        axes[0].fill_between(x, upper, lower, alpha=0.3)\n",
    "        axes[0].scatter(x[y > upper], y[y > upper], marker='o',\n",
    "                        color='red', s=50000/(end-start), zorder=2)\n",
    "        axes[0].scatter(x[y < lower], y[y < lower], marker='o',\n",
    "                        color='red', s=50000/(end-start), zorder=2)\n",
    "        axes[0].scatter(x[idx], avg[idx], marker='o',\n",
    "                        color='blue', s=50000/(end-start), zorder=2)\n",
    "        # axes[0].scatter(x[turning_indices], avg[turning_indices], marker='o',\n",
    "        #                 color='blue', s=50000/(end-start), zorder=2)\n",
    "\n",
    "    axes[0].legend(loc='upper left')\n",
    "    axes[1].legend(loc='upper left')\n",
    "\n",
    "    for ax in axes:\n",
    "        ax.grid(True, linestyle='--', linewidth=0.5, color='gray', alpha=0.5)\n",
    "        ax.set_xticks(np.arange(start, end, max(100, (end-start)//40)))\n",
    "    plt.xticks(rotation=45)\n",
    "\n",
    "\n",
    "def arbitrage_gui():\n",
    "    product_select = widgets.SelectMultiple(options=[\"BERRIES\", \"DIVING_GEAR\", \"DOLPHIN_SIGHTINGS\",\"COCONUTS\",\"PINA_COLADAS\"],\n",
    "                                            value=[\"DIVING_GEAR\",\n",
    "                                                   \"DOLPHIN_SIGHTINGS\"])\n",
    "    day_dropdown = widgets.Dropdown(options=[0, 1, 2], value=0)\n",
    "    starting_slider = widgets.IntSlider(min=0, max=10000, step=1, value=0)\n",
    "    end_slider = widgets.IntSlider(min=0, max=10000, step=1, value=1000)\n",
    "    window_slider = widgets.IntSlider(min=0, max=1000, step=1, value=35)\n",
    "    window_slider2 = widgets.IntSlider(min=0, max=1000, step=1, value=45)\n",
    "    n_slider = widgets.FloatSlider(min=0, max=10, step=0.1, value=4)\n",
    "    plateau_starts = widgets.IntSlider(min=0, max=10000, step=1, value=2000)\n",
    "    upward_starts = widgets.IntSlider(min=0, max=10000, step=1, value=4000)\n",
    "    down_starts = widgets.IntSlider(min=0, max=10000, step=1, value=5500)\n",
    "    down_ends = widgets.IntSlider(min=0, max=10000, step=1, value=7000)\n",
    "    widgets.interact(update_arbitrage_plot,\n",
    "                     day=day_dropdown,\n",
    "                     start=(starting_slider),\n",
    "                     end=(end_slider),\n",
    "                     window_smaller=window_slider,\n",
    "                     window_larger=window_slider2,\n",
    "                     n=n_slider,\n",
    "                     )\n"
   ]
  },
  {
   "cell_type": "markdown",
   "metadata": {},
   "source": [
    "👇 RUN ME TO GET GRAPH 👇"
   ]
  },
  {
   "cell_type": "code",
   "execution_count": 215,
   "metadata": {},
   "outputs": [
    {
     "data": {
      "application/vnd.jupyter.widget-view+json": {
       "model_id": "b585d7c513ee434dbd150799fa68ef17",
       "version_major": 2,
       "version_minor": 0
      },
      "text/plain": [
       "interactive(children=(Dropdown(description='day', options=(0, 1, 2), value=0), IntSlider(value=0, description=…"
      ]
     },
     "metadata": {},
     "output_type": "display_data"
    }
   ],
   "source": [
    "arbitrage_gui()"
   ]
  },
  {
   "cell_type": "code",
   "execution_count": null,
   "metadata": {},
   "outputs": [],
   "source": []
  }
 ],
 "metadata": {
  "kernelspec": {
   "display_name": "Python 3 (ipykernel)",
   "language": "python",
   "name": "python3"
  },
  "language_info": {
   "codemirror_mode": {
    "name": "ipython",
    "version": 3
   },
   "file_extension": ".py",
   "mimetype": "text/x-python",
   "name": "python",
   "nbconvert_exporter": "python",
   "pygments_lexer": "ipython3",
   "version": "3.9.12"
  }
 },
 "nbformat": 4,
 "nbformat_minor": 2
}
