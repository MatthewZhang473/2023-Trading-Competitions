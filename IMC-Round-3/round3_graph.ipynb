{
 "cells": [
  {
   "cell_type": "markdown",
   "metadata": {},
   "source": [
    "### Helper Functions"
   ]
  },
  {
   "cell_type": "code",
   "execution_count": 1,
   "metadata": {},
   "outputs": [],
   "source": [
    "import numpy as np\n",
    "import re\n",
    "%matplotlib inline\n",
    "import matplotlib.pyplot as plt\n",
    "import pandas as pd\n",
    "import ipywidgets as widgets\n",
    "from IPython.display import display"
   ]
  },
  {
   "cell_type": "markdown",
   "metadata": {},
   "source": [
    "#### BLG & RSI"
   ]
  },
  {
   "cell_type": "code",
   "execution_count": 2,
   "metadata": {},
   "outputs": [],
   "source": [
    "def blg(mid_prices, window_size = 20):\n",
    "    cum_sum = np.cumsum(mid_prices)\n",
    "    window_sum = cum_sum[window_size:] - cum_sum[:-window_size]\n",
    "    window_avg = window_sum / window_size\n",
    "    cum_sum_sq = np.cumsum(np.square(mid_prices))\n",
    "    window_sum_sq = cum_sum_sq[window_size:] - cum_sum_sq[:-window_size]\n",
    "    window_avg_sq = window_sum_sq / window_size\n",
    "\n",
    "    window_variance = window_avg_sq - np.square(window_avg)\n",
    "    window_std = np.sqrt(window_variance)\n",
    "    return np.concatenate((np.full(window_size,np.nan),window_avg)), np.concatenate((np.full(window_size,np.nan),window_std))"
   ]
  },
  {
   "cell_type": "code",
   "execution_count": 3,
   "metadata": {},
   "outputs": [],
   "source": [
    "def rsi_calc(price_history:pd.DataFrame, n:int=20)->pd.DataFrame:\n",
    "    \"\"\"\n",
    "    Input: \n",
    "    price_history -- a pandas DataFrame of mid prices\n",
    "\n",
    "    Return:\n",
    "    rsi -- a pandas DataFrame of rsi indices, the first n elements will be NAN \n",
    "    \"\"\"\n",
    "    change = price_history.diff()\n",
    "    # Create two copies of the Closing price Series\n",
    "    change_up = change.copy()\n",
    "    change_down = change.copy()\n",
    "\n",
    "    # Seperate the upward changes, and download changes\n",
    "    change_up[change_up<0] = 0\n",
    "    change_down[change_down>0] = 0\n",
    "\n",
    "    # Verify that we did not make any mistakes\n",
    "    change.equals(change_up+change_down)\n",
    "\n",
    "    # Calculate the rolling average of average up and average down\n",
    "    avg_up = change_up.rolling(n).mean()\n",
    "    avg_down = change_down.rolling(n).mean().abs()\n",
    "    rsi = 100 - 100/(1+ (avg_up/avg_down))\n",
    "    return rsi"
   ]
  },
  {
   "cell_type": "markdown",
   "metadata": {},
   "source": [
    "#### Process"
   ]
  },
  {
   "cell_type": "code",
   "execution_count": 4,
   "metadata": {},
   "outputs": [],
   "source": [
    "import csv\n",
    "import os\n",
    "\n",
    "def process_log_file(filename):\n",
    "    \"\"\"\n",
    "    Reads a log file and extracts the contents after \"activities log:\" into a CSV file with the same name.\n",
    "    \"\"\"\n",
    "    with open(filename, 'r') as f:\n",
    "        lines = f.readlines()\n",
    "        print(f\"finished reading {filename}\")\n",
    "\n",
    "    # Find the index of the line that says \"activities log:\"\n",
    "    activities_index = -1\n",
    "    for i, line in enumerate(lines):\n",
    "        if line.startswith(\"Activities log:\"):\n",
    "            activities_index = i\n",
    "            break\n",
    "\n",
    "    # If \"activities log:\" is not found, return\n",
    "    if activities_index == -1:\n",
    "        return\n",
    "\n",
    "    # Extract the lines after \"activities log:\"\n",
    "    activities_lines = lines[activities_index + 1:]\n",
    "\n",
    "    # Remove any leading or trailing whitespace from each line\n",
    "    activities_lines = [line.strip() for line in activities_lines]\n",
    "\n",
    "    csv_filename = f\"{filename.split('.log')[0]}.csv\"\n",
    "    \n",
    "    if os.path.exists(csv_filename):\n",
    "        print(f\"Error: File '{csv_filename}' already exists.\")\n",
    "        return csv_filename\n",
    "\n",
    "    # Write the contents to a CSV file with the same name as the log file\n",
    "    with open(csv_filename, 'w', newline='') as f:\n",
    "        writer = csv.writer(f)\n",
    "        writer.writerows([line.split(',') for line in activities_lines])\n",
    "        print(f\"{csv_filename} created and written to.\")\n",
    "        return csv_filename"
   ]
  },
  {
   "cell_type": "code",
   "execution_count": 5,
   "metadata": {},
   "outputs": [],
   "source": [
    "def get_data(log_file_path, products):\n",
    "    # from csv in the log\n",
    "    csv_path = process_log_file(log_file_path)\n",
    "    with open(log_file_path, \"r\") as f:\n",
    "        log_file = f.read()\n",
    "\n",
    "    product_dfs = []\n",
    "    position_list = []\n",
    "    mid_prices_list = []\n",
    "    best_bid_prices_list = []\n",
    "    best_ask_prices_list = []\n",
    "    for product in products:\n",
    "        df = pd.read_csv(csv_path, delimiter=\";\")\n",
    "        product_df = df.loc[df[\"product\"]==product]\n",
    "        product_dfs.append(product_df)\n",
    "        mid_prices = np.array(product_df[\"mid_price\"])\n",
    "        best_bid_prices = np.array(product_df[\"bid_price_1\"])\n",
    "        best_ask_prices = np.array(product_df[\"ask_price_1\"])\n",
    "        mid_prices_list.append(mid_prices)\n",
    "        best_bid_prices_list.append(best_bid_prices)\n",
    "        best_ask_prices_list.append(best_ask_prices)\n",
    "\n",
    "        # directly from log\n",
    "        log_profits = re.findall(r\"if it is last round, profit = (-?\\d+(?:\\.\\d+)?)\", log_file)\n",
    "        positions = re.findall(rf\"{product}'s position = (-?\\d+)\", log_file)\n",
    "#         positions = [0] * (len(mid_prices)-len(positions)) + positions\n",
    "        positions = [float(num) for num in positions]\n",
    "        position_list.append(positions)\n",
    "        # buy_profit_margin = re.findall(r\"buy profit margin is (-?\\d+)\", log_file)\n",
    "        # buy_profit_margin = [float(x) for x in buy_profit_margin]\n",
    "        # sell_profit_margin = re.findall(r\"sell profit margin is (-?\\d+)\", log_file)\n",
    "        # sell_profit_margin = [float(x) for x in sell_profit_margin]\n",
    "\n",
    "    return product_dfs, mid_prices_list, position_list, best_bid_prices_list, best_ask_prices_list"
   ]
  },
  {
   "cell_type": "markdown",
   "metadata": {},
   "source": [
    "#### Plot"
   ]
  },
  {
   "cell_type": "code",
   "execution_count": 80,
   "metadata": {},
   "outputs": [],
   "source": [
    "def plot(mid_prices_list, window_size, n, bound, starting, end, log_file_path, \n",
    "         product_dfs, position_list, position_limits,\n",
    "         best_bid_list, best_ask_list):\n",
    "    start = starting\n",
    "    if (start >= end):\n",
    "        return\n",
    "    fig, axes = plt.subplots(3,1,figsize=(20, 12),sharex=True)\n",
    "    fig.suptitle(f\"{log_file_path.split('/')[-1]}\")\n",
    "    fig.set_tight_layout(True)\n",
    "    fig.set_facecolor('white')\n",
    "    \n",
    "    for product_df,positions,mid_prices,position_limit\\\n",
    "          in zip(product_dfs,position_list,mid_prices_list,position_limits):\n",
    "        x = np.array(range(start,end))\n",
    "        y = mid_prices[start:end]\n",
    "        product = product_df[\"product\"].iloc[0]\n",
    "\n",
    "        rsi = rsi_calc(pd.Series(mid_prices))\n",
    "\n",
    "        # avg_avg, _ = blg(avg, window_size)\n",
    "        # avg_avg = np.concatenate((avg[:start], avg_avg))\n",
    "        # dy = np.gradient(avg_avg)\n",
    "\n",
    "        # Find the indices where the sign of the derivative changes\n",
    "        # indices = np.where(np.diff(np.sign(dy)))[0]\n",
    "\n",
    "        # blg\n",
    "        avg, std = blg(mid_prices[start:end], window_size)\n",
    "        upper = avg + n * std + bound\n",
    "        lower = avg - n * std - bound\n",
    "\n",
    "        axes[0].plot(x, y, label=product, marker='o', markersize=1)\n",
    "        axes[0].set_ylabel(\"Mid price\")\n",
    "        if n > 0 and window_size > 0:\n",
    "            axes[0].plot(x, avg)\n",
    "            # axes[0].plot(x, avg_avg[:length], label=\"moving average's average\")\n",
    "            axes[0].fill_between(x, upper, lower, alpha=0.1)\n",
    "            # axes[0].fill_between(x, (avg_avg + n * std)[:length], (avg_avg - n * std)[:length], alpha=0.1)\n",
    "            # axes[0].scatter(x[indices],avg[indices], marker='o',color='blue', s=8000/length,zorder=2)\n",
    "            axes[0].scatter(x[y>upper],y[y>upper], marker='o',color='red', s=8000/end,zorder=2)\n",
    "            axes[0].scatter(x[y<lower],y[y<lower], marker='o',color='red', s=8000/end,zorder=2)\n",
    "        axes[0].legend(loc='upper left')\n",
    "\n",
    "        axes[1].plot(x, product_df[\"profit_and_loss\"][start:end], label=product)\n",
    "        axes[1].set_ylabel(\"Profit\")\n",
    "        axes[1].legend(loc='upper left')\n",
    "\n",
    "        axes[2].plot(x, positions[start:end], label=product)\n",
    "        axes[2].set_ylabel(\"Position\")\n",
    "        axes[2].set_ybound(-position_limit,position_limit)\n",
    "        axes[2].legend(loc='upper left')\n",
    "\n",
    "    # axes[3].plot(x, rsi[window_size:length], label=\"rsi\")\n",
    "    # if buy_profit_margin != [] and sell_profit_margin != []:\n",
    "    #     axes[3].plot(x,buy_profit_margin[window_size:length],label=\"buy profit margin\")\n",
    "    #     axes[3].plot(x,sell_profit_margin[window_size:length],label=\"sell profit margin\")\n",
    "\n",
    "    for ax in axes:\n",
    "        ax.grid(True, linestyle='--', linewidth=0.5, color='gray', alpha=0.5)\n",
    "        ax.set_xticks(np.arange(starting,end, max(1,(end-start)//40)))\n",
    "\n",
    "    plt.subplots_adjust(hspace=0)\n",
    "    plt.show()"
   ]
  },
  {
   "cell_type": "markdown",
   "metadata": {},
   "source": [
    "#### Plot From CSVs"
   ]
  },
  {
   "cell_type": "code",
   "execution_count": 81,
   "metadata": {},
   "outputs": [],
   "source": [
    "# log_name = \"\"\"\n",
    "# ruige\n",
    "# \"\"\"\n",
    "\n",
    "def gui(products, position_limits, normalization_multipliers,log_name):\n",
    "    def update_plot(window_size,starting,end,n):\n",
    "#         if log_file == ():\n",
    "#             print(\"Upload a log file first.\")\n",
    "#             return\n",
    "        \n",
    "#         log_name = log_file[0].name\n",
    "        log_file_path = f\"logs/{log_name.strip()}.log\"\n",
    "\n",
    "        \n",
    "        product_dfs, mid_prices_list, positions, best_bid_list, best_ask_list = get_data(\n",
    "            log_file_path, products)\n",
    "        \n",
    "        normalized_mid_prices = [mid_prices*mult for mid_prices,mult in zip(mid_prices_list, normalization_multipliers)]\n",
    "        \n",
    "        plot(\n",
    "            normalized_mid_prices, \n",
    "            window_size=int(window_size), n=n, bound=1, starting=int(starting), end=int(end),\n",
    "            log_file_path=log_file_path, product_dfs=product_dfs, position_list=positions,\n",
    "            position_limits=position_limits, best_bid_list=best_bid_list, best_ask_list=best_ask_list)\n",
    "\n",
    "\n",
    "#     uploader = widgets.FileUpload(accept='.log', multiple=False)\n",
    "\n",
    "    window_slider = widgets.FloatSlider(min=0, max=100, step=1, value=10)\n",
    "    n_slider = widgets.FloatSlider(min=0, max=10, step=0.1, value=1.5)\n",
    "    starting_slider = widgets.FloatSlider(min=0, max=1000, step=1, value=0)\n",
    "    end_slider = widgets.FloatSlider(min=0, max=1000, step=1, value=200)\n",
    "    widgets.interact(update_plot,\n",
    "                     window_size=window_slider,\n",
    "                     starting=starting_slider,\n",
    "                     end=end_slider,\n",
    "                     n=n_slider,\n",
    "#                      log_file=uploader\n",
    "                     )\n"
   ]
  },
  {
   "cell_type": "markdown",
   "metadata": {},
   "source": [
    "### User's GUI"
   ]
  },
  {
   "cell_type": "markdown",
   "metadata": {},
   "source": [
    "👇 RUN ME TO GET GRAPH 👇"
   ]
  },
  {
   "cell_type": "code",
   "execution_count": 82,
   "metadata": {
    "scrolled": false
   },
   "outputs": [
    {
     "data": {
      "application/vnd.jupyter.widget-view+json": {
       "model_id": "2521caa3a1714ad593a847da5bc7f429",
       "version_major": 2,
       "version_minor": 0
      },
      "text/plain": [
       "interactive(children=(FloatSlider(value=10.0, description='window_size', step=1.0), FloatSlider(value=0.0, des…"
      ]
     },
     "metadata": {},
     "output_type": "display_data"
    }
   ],
   "source": [
    "products = [\n",
    "# \"PINA_COLADAS\",\n",
    "# \"COCONUTS\",\n",
    "# \"PEARLS\",\n",
    "\"BANANAS\"\n",
    "]\n",
    "position_limits = [\n",
    "#     300,\n",
    "#     600,\n",
    "    # 20,\n",
    "    20\n",
    "]\n",
    "\n",
    "normalization_multipliers = [\n",
    "    # 8,\n",
    "    # 15,\n",
    "    # 1,\n",
    "    1,\n",
    "]\n",
    "\n",
    "gui(products, position_limits, normalization_multipliers,\n",
    "    log_name = \"round_3_naive_indicator\"\n",
    ")"
   ]
  },
  {
   "attachments": {},
   "cell_type": "markdown",
   "metadata": {},
   "source": [
    "### Berries Profit Estimation"
   ]
  },
  {
   "cell_type": "code",
   "execution_count": 113,
   "metadata": {},
   "outputs": [],
   "source": [
    "def update_profit_plot(day, start, end, window_size, n, plateau_starts, upward_starts, down_starts, down_ends):\n",
    "    if start >= end:\n",
    "        return\n",
    "    # day = 0 # 0, 1 or 2\n",
    "    csv_path = f\"data/island-data-bottle-round-3/prices_round_3_day_{day}.csv\"\n",
    "\n",
    "    df = pd.read_csv(csv_path, delimiter=';')\n",
    "    berries_df = df.loc[df[\"product\"] == \"BERRIES\"]\n",
    "\n",
    "    fig, axes = plt.subplots(2, 1, figsize=(20, 12), sharex=True)\n",
    "    fig.suptitle(f\"Berries day {day}\")\n",
    "    fig.set_tight_layout(True)\n",
    "    fig.set_facecolor('white')\n",
    "\n",
    "    x = np.array(range(start,end))\n",
    "    y = berries_df[\"mid_price\"][start:end]\n",
    "\n",
    "\n",
    "    axes[0].set_ylim(bottom=np.min(y), top=np.max(y))\n",
    "\n",
    "    axes[0].plot(x, y, label=\"mid price\")\n",
    "    # axes[0].plot(x, berries_df[\"bid_price_1\"][start:end],\n",
    "    #              label=\"best bid\", linewidth=.4, alpha=0.5)\n",
    "    # axes[0].plot(x, berries_df[\"ask_price_1\"][start:end],\n",
    "    #              label=\"best ask\", linewidth=.4, alpha=0.5)\n",
    "    axes[0].fill_between(x, y, where=(x >= plateau_starts) & (\n",
    "        x <= upward_starts), alpha=0.15)\n",
    "    axes[0].fill_between(x, y, where=(x >= upward_starts) & (\n",
    "        x <= down_starts), alpha=0.15)\n",
    "    axes[0].fill_between(x, y, where=(x >= down_starts) & (\n",
    "        x <= down_ends), alpha=0.15)\n",
    "    \n",
    "    # blg\n",
    "    avg, std = blg(np.array(berries_df[\"mid_price\"][start:end]), window_size)\n",
    "    upper = avg + n * std\n",
    "    lower = avg - n * std\n",
    "    if n > 0 and window_size > 0:\n",
    "        axes[0].plot(x,avg, label=\"moving avg\")\n",
    "        axes[0].fill_between(x, upper, lower, alpha=0.3)\n",
    "        axes[0].scatter(x[y > upper], y[y > upper], marker='o',\n",
    "                        color='red', s=20000/(end-start), zorder=2)\n",
    "        axes[0].scatter(x[y < lower], y[y < lower], marker='o',\n",
    "                        color='red', s=20000/(end-start), zorder=2)\n",
    "\n",
    "    axes[0].legend(loc='upper left')\n",
    "\n",
    "    for ax in axes:\n",
    "        ax.grid(True, linestyle='--', linewidth=0.5, color='gray', alpha=0.5)\n",
    "        ax.set_xticks(np.arange(start, end, max(100, (end-start)//40)))\n",
    "    plt.xticks(rotation=45)\n",
    "\n",
    "\n",
    "def profit_gui():\n",
    "    day_dropdown = widgets.Dropdown(options=[0, 1, 2], value=0)\n",
    "    starting_slider = widgets.IntSlider(min=0, max=10000, step=1, value=0)\n",
    "    end_slider = widgets.IntSlider(min=0, max=10000, step=1, value=10000)\n",
    "    window_slider = widgets.IntSlider(min=0, max=1000, step=1, value=100)\n",
    "    n_slider = widgets.FloatSlider(min=0, max=10, step=0.1, value=2)\n",
    "    plateau_starts = widgets.IntSlider(min=0, max=10000, step=1, value=2000)\n",
    "    upward_starts = widgets.IntSlider(min=0, max=10000, step=1, value=4000)\n",
    "    down_starts = widgets.IntSlider(min=0, max=10000, step=1, value=5500)\n",
    "    down_ends = widgets.IntSlider(min=0, max=10000, step=1, value=7000)\n",
    "    widgets.interact(update_profit_plot,\n",
    "                     day=day_dropdown,\n",
    "                     start=(starting_slider),\n",
    "                     end=(end_slider),\n",
    "                     window_size=window_slider,\n",
    "                     n=n_slider,\n",
    "                     plateau_starts=plateau_starts,\n",
    "                     upward_starts=upward_starts,\n",
    "                     down_starts=down_starts,\n",
    "                     down_ends=down_ends,\n",
    "                     )\n"
   ]
  },
  {
   "attachments": {},
   "cell_type": "markdown",
   "metadata": {},
   "source": [
    "👇 RUN ME TO GET GRAPH 👇"
   ]
  },
  {
   "cell_type": "code",
   "execution_count": 114,
   "metadata": {},
   "outputs": [
    {
     "data": {
      "application/vnd.jupyter.widget-view+json": {
       "model_id": "b799aee3099246579fabaa9674fe1952",
       "version_major": 2,
       "version_minor": 0
      },
      "text/plain": [
       "interactive(children=(Dropdown(description='day', options=(0, 1, 2), value=0), IntSlider(value=0, description=…"
      ]
     },
     "metadata": {},
     "output_type": "display_data"
    }
   ],
   "source": [
    "profit_gui()"
   ]
  },
  {
   "attachments": {},
   "cell_type": "markdown",
   "metadata": {},
   "source": [
    "There will be no significant price trend between 2000-4000(5:00-10:00). Significant upward trend takes place between 4000-5500 (10:00-12:00), followed by a downward trend between 5500-7000(12:00-16:00). After 7000(16:00), price exhibits no predictable trend."
   ]
  },
  {
   "attachments": {},
   "cell_type": "markdown",
   "metadata": {},
   "source": [
    "---"
   ]
  },
  {
   "cell_type": "code",
   "execution_count": null,
   "metadata": {},
   "outputs": [
    {
     "ename": "NameError",
     "evalue": "name 'best_bid_list' is not defined",
     "output_type": "error",
     "traceback": [
      "\u001b[0;31m---------------------------------------------------------------------------\u001b[0m",
      "\u001b[0;31mNameError\u001b[0m                                 Traceback (most recent call last)",
      "\u001b[1;32m/mnt/g/My Drive/ObsidianNotes/Cam_Study/IMC_Trading/Trading_Prep/IMC-Round-2/round2_graph.ipynb Cell 15\u001b[0m in \u001b[0;36m<cell line: 2>\u001b[0;34m()\u001b[0m\n\u001b[1;32m      <a href='vscode-notebook-cell://wsl%2Bdebian/mnt/g/My%20Drive/ObsidianNotes/Cam_Study/IMC_Trading/Trading_Prep/IMC-Round-2/round2_graph.ipynb#X20sdnNjb2RlLXJlbW90ZQ%3D%3D?line=0'>1</a>\u001b[0m normalized_best_bid_prices \u001b[39m=\u001b[39m [\n\u001b[0;32m----> <a href='vscode-notebook-cell://wsl%2Bdebian/mnt/g/My%20Drive/ObsidianNotes/Cam_Study/IMC_Trading/Trading_Prep/IMC-Round-2/round2_graph.ipynb#X20sdnNjb2RlLXJlbW90ZQ%3D%3D?line=1'>2</a>\u001b[0m     best_bid_list[\u001b[39m0\u001b[39m] \u001b[39m*\u001b[39m \u001b[39m8\u001b[39m,\n\u001b[1;32m      <a href='vscode-notebook-cell://wsl%2Bdebian/mnt/g/My%20Drive/ObsidianNotes/Cam_Study/IMC_Trading/Trading_Prep/IMC-Round-2/round2_graph.ipynb#X20sdnNjb2RlLXJlbW90ZQ%3D%3D?line=2'>3</a>\u001b[0m     best_bid_list[\u001b[39m1\u001b[39m] \u001b[39m*\u001b[39m \u001b[39m15\u001b[39m]\n\u001b[1;32m      <a href='vscode-notebook-cell://wsl%2Bdebian/mnt/g/My%20Drive/ObsidianNotes/Cam_Study/IMC_Trading/Trading_Prep/IMC-Round-2/round2_graph.ipynb#X20sdnNjb2RlLXJlbW90ZQ%3D%3D?line=3'>4</a>\u001b[0m normalized_best_ask_prices \u001b[39m=\u001b[39m [\n\u001b[1;32m      <a href='vscode-notebook-cell://wsl%2Bdebian/mnt/g/My%20Drive/ObsidianNotes/Cam_Study/IMC_Trading/Trading_Prep/IMC-Round-2/round2_graph.ipynb#X20sdnNjb2RlLXJlbW90ZQ%3D%3D?line=4'>5</a>\u001b[0m     best_ask_list[\u001b[39m0\u001b[39m] \u001b[39m*\u001b[39m \u001b[39m8\u001b[39m,\n\u001b[1;32m      <a href='vscode-notebook-cell://wsl%2Bdebian/mnt/g/My%20Drive/ObsidianNotes/Cam_Study/IMC_Trading/Trading_Prep/IMC-Round-2/round2_graph.ipynb#X20sdnNjb2RlLXJlbW90ZQ%3D%3D?line=5'>6</a>\u001b[0m     best_ask_list[\u001b[39m1\u001b[39m] \u001b[39m*\u001b[39m \u001b[39m15\u001b[39m]\n\u001b[1;32m      <a href='vscode-notebook-cell://wsl%2Bdebian/mnt/g/My%20Drive/ObsidianNotes/Cam_Study/IMC_Trading/Trading_Prep/IMC-Round-2/round2_graph.ipynb#X20sdnNjb2RlLXJlbW90ZQ%3D%3D?line=6'>7</a>\u001b[0m price_diff \u001b[39m=\u001b[39m normalized_best_bid_prices[\u001b[39m0\u001b[39m] \u001b[39m-\u001b[39m normalized_best_ask_prices[\u001b[39m1\u001b[39m]\n",
      "\u001b[0;31mNameError\u001b[0m: name 'best_bid_list' is not defined"
     ]
    }
   ],
   "source": [
    "normalized_best_bid_prices = [\n",
    "    best_bid_list[0] * 8,\n",
    "    best_bid_list[1] * 15]\n",
    "normalized_best_ask_prices = [\n",
    "    best_ask_list[0] * 8,\n",
    "    best_ask_list[1] * 15]\n",
    "price_diff = normalized_best_bid_prices[0] - normalized_best_ask_prices[1]\n",
    "price_diff_rev = normalized_best_bid_prices[1] - normalized_best_ask_prices[0]\n",
    "\n",
    "window_size = 4\n",
    "end = 200\n",
    "n = 1.3\n",
    "\n",
    "fig, axes = plt.subplots(2,1,figsize=(12, 12),sharex=False)\n",
    "fig.suptitle(f\"{log_file_path.split('/')[-1]}\")\n",
    "fig.set_tight_layout(True)\n",
    "fig.set_facecolor('white')\n",
    "\n",
    "avg, std = blg(price_diff[:end], window_size)\n",
    "avg_rev, std_rev = blg(price_diff_rev[:end], window_size)\n",
    "x = np.array(range(end))\n",
    "y = price_diff[:end]\n",
    "y2 = price_diff_rev[:end]\n",
    "\n",
    "axes[0].plot(x,y,label=\"pbca\")\n",
    "axes[0].plot(x,y2, label=\"cbpa\")\n",
    "rsi = rsi_calc(pd.Series(price_diff),n=window_size)\n",
    "\n",
    "upper = avg + n * std\n",
    "upper_rev = avg_rev + 1.5 * std_rev\n",
    "# lower = avg - n * std\n",
    "axes[0].set_ylabel(\"price diff\")\n",
    "if n > 0:\n",
    "    # axes[0].plot(x, avg[:length], label=\"moving average\")\n",
    "    # axes[0].fill_between(x, upper[:length], lower[:length], alpha=0.1)\n",
    "    axes[0].scatter(x[y>avg+10],y[y>avg+10], marker='o',color='red', s=8000/end,zorder=2)\n",
    "    # axes[0].scatter(x[y>upper],y[y>upper], marker='o',color='red', s=8000/length,zorder=2)\n",
    "    axes[0].scatter(x[y2>upper_rev],y2[y2>upper_rev], marker='o',color='blue', s=8000/end,zorder=2)\n",
    "    # axes[0].scatter(x[y<lower],y[y<lower], marker='o',color='red', s=8000/length,zorder=2)\n",
    "axes[0].legend(loc='upper left')\n",
    "\n",
    "# rsi_upper = 45\n",
    "# rsi_lower = 20\n",
    "# rsi_cond = np.logical_or(rsi[window_size:length] > rsi_upper, rsi[window_size:length] < rsi_lower)\n",
    "# # Find the indices of the consecutive True elements\n",
    "# indices = np.where(np.logical_and(rsi_cond[1:], rsi_cond[:-1]))[0] + 1\n",
    "\n",
    "# agree = np.logical_and(rsi_cond, np.logical_or(y>upper, y<lower))\n",
    "\n",
    "# axes[0].scatter(x[rsi_cond],price_diff[window_size:length][rsi_cond], color='green', marker=\"x\", s=80, zorder=10)\n",
    "# axes[0].scatter(x[agree],price_diff[window_size:length][agree], color='yellow', marker=\"o\", s=50, zorder=20)\n",
    "# axes[1].plot(x,rsi[window_size:length])\n",
    "# axes[1].axhline(y=rsi_upper)\n",
    "# axes[1].axhline(y=rsi_lower)\n",
    "\n",
    "for ax in axes:\n",
    "    ax.grid(True, linestyle='--', linewidth=0.5, color='gray', alpha=0.5)\n",
    "    ax.set_xticks(np.linspace(0,end,41))"
   ]
  }
 ],
 "metadata": {
  "kernelspec": {
   "display_name": "Python 3 (ipykernel)",
   "language": "python",
   "name": "python3"
  },
  "language_info": {
   "codemirror_mode": {
    "name": "ipython",
    "version": 3
   },
   "file_extension": ".py",
   "mimetype": "text/x-python",
   "name": "python",
   "nbconvert_exporter": "python",
   "pygments_lexer": "ipython3",
   "version": "3.9.12"
  }
 },
 "nbformat": 4,
 "nbformat_minor": 2
}
